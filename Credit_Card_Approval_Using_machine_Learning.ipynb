{
  "nbformat": 4,
  "nbformat_minor": 0,
  "metadata": {
    "colab": {
      "provenance": [],
      "gpuType": "T4"
    },
    "kernelspec": {
      "name": "python3",
      "display_name": "Python 3"
    },
    "language_info": {
      "name": "python"
    },
    "accelerator": "GPU"
  },
  "cells": [
    {
      "cell_type": "code",
      "source": [
        "from google.colab import drive\n",
        "drive.mount('/content/drive')"
      ],
      "metadata": {
        "colab": {
          "base_uri": "https://localhost:8080/"
        },
        "id": "eqx4v7ARiNhU",
        "outputId": "f73aeeef-247c-47c6-fbb4-e7d013174321"
      },
      "execution_count": null,
      "outputs": [
        {
          "output_type": "stream",
          "name": "stdout",
          "text": [
            "Mounted at /content/drive\n"
          ]
        }
      ]
    },
    {
      "cell_type": "code",
      "source": [
        "import pandas as pd\n",
        "import numpy as np\n",
        "import matplotlib.pyplot as plt\n",
        "import seaborn as sns\n",
        "from sklearn.preprocessing import StandardScaler\n",
        "\n",
        "\n",
        "# importing the necessary libraries"
      ],
      "metadata": {
        "id": "RlKNUgbmig2F"
      },
      "execution_count": null,
      "outputs": []
    },
    {
      "cell_type": "code",
      "source": [
        "df=pd.read_csv(\"/content/drive/MyDrive/ML_MODULE/creditcard_2023.csv\") #reading the csv file from the drive"
      ],
      "metadata": {
        "id": "WecT420Niqiz"
      },
      "execution_count": null,
      "outputs": []
    },
    {
      "cell_type": "code",
      "source": [
        "df # display the full content of the table"
      ],
      "metadata": {
        "colab": {
          "base_uri": "https://localhost:8080/",
          "height": 443
        },
        "id": "T_Ii-PKriy3o",
        "outputId": "d8c3947c-d1f5-4e8a-9099-76a46e713965"
      },
      "execution_count": null,
      "outputs": [
        {
          "output_type": "execute_result",
          "data": {
            "text/plain": [
              "            id        V1        V2        V3        V4        V5        V6  \\\n",
              "0            0 -0.260648 -0.469648  2.496266 -0.083724  0.129681  0.732898   \n",
              "1            1  0.985100 -0.356045  0.558056 -0.429654  0.277140  0.428605   \n",
              "2            2 -0.260272 -0.949385  1.728538 -0.457986  0.074062  1.419481   \n",
              "3            3 -0.152152 -0.508959  1.746840 -1.090178  0.249486  1.143312   \n",
              "4            4 -0.206820 -0.165280  1.527053 -0.448293  0.106125  0.530549   \n",
              "...        ...       ...       ...       ...       ...       ...       ...   \n",
              "568625  568625 -0.833437  0.061886 -0.899794  0.904227 -1.002401  0.481454   \n",
              "568626  568626 -0.670459 -0.202896 -0.068129 -0.267328 -0.133660  0.237148   \n",
              "568627  568627 -0.311997 -0.004095  0.137526 -0.035893 -0.042291  0.121098   \n",
              "568628  568628  0.636871 -0.516970 -0.300889 -0.144480  0.131042 -0.294148   \n",
              "568629  568629 -0.795144  0.433236 -0.649140  0.374732 -0.244976 -0.603493   \n",
              "\n",
              "              V7        V8        V9  ...       V21       V22       V23  \\\n",
              "0       0.519014 -0.130006  0.727159  ... -0.110552  0.217606 -0.134794   \n",
              "1       0.406466 -0.133118  0.347452  ... -0.194936 -0.605761  0.079469   \n",
              "2       0.743511 -0.095576 -0.261297  ... -0.005020  0.702906  0.945045   \n",
              "3       0.518269 -0.065130 -0.205698  ... -0.146927 -0.038212 -0.214048   \n",
              "4       0.658849 -0.212660  1.049921  ... -0.106984  0.729727 -0.161666   \n",
              "...          ...       ...       ...  ...       ...       ...       ...   \n",
              "568625 -0.370393  0.189694 -0.938153  ...  0.167503  0.419731  1.288249   \n",
              "568626 -0.016935 -0.147733  0.483894  ...  0.031874  0.388161 -0.154257   \n",
              "568627 -0.070958 -0.019997 -0.122048  ...  0.140788  0.536523 -0.211100   \n",
              "568628  0.580568 -0.207723  0.893527  ... -0.060381 -0.195609 -0.175488   \n",
              "568629 -0.347613 -0.340814  0.253971  ...  0.534853 -0.291514  0.157303   \n",
              "\n",
              "             V24       V25       V26       V27       V28    Amount  Class  \n",
              "0       0.165959  0.126280 -0.434824 -0.081230 -0.151045  17982.10      0  \n",
              "1      -0.577395  0.190090  0.296503 -0.248052 -0.064512   6531.37      0  \n",
              "2      -1.154666 -0.605564 -0.312895 -0.300258 -0.244718   2513.54      0  \n",
              "3      -1.893131  1.003963 -0.515950 -0.165316  0.048424   5384.44      0  \n",
              "4       0.312561 -0.414116  1.071126  0.023712  0.419117  14278.97      0  \n",
              "...          ...       ...       ...       ...       ...       ...    ...  \n",
              "568625 -0.900861  0.560661 -0.006018  3.308968  0.081564   4394.16      1  \n",
              "568626 -0.846452 -0.153443  1.961398 -1.528642  1.704306   4653.40      1  \n",
              "568627 -0.448909  0.540073 -0.755836 -0.487540 -0.268741  23572.85      1  \n",
              "568628 -0.554643 -0.099669 -1.434931 -0.159269 -0.076251  10160.83      1  \n",
              "568629  0.931030 -0.349423 -1.090974 -1.575113  0.722936  21493.92      1  \n",
              "\n",
              "[568630 rows x 31 columns]"
            ],
            "text/html": [
              "\n",
              "  <div id=\"df-382a05d0-0a47-4994-95b0-ae38e56c280a\" class=\"colab-df-container\">\n",
              "    <div>\n",
              "<style scoped>\n",
              "    .dataframe tbody tr th:only-of-type {\n",
              "        vertical-align: middle;\n",
              "    }\n",
              "\n",
              "    .dataframe tbody tr th {\n",
              "        vertical-align: top;\n",
              "    }\n",
              "\n",
              "    .dataframe thead th {\n",
              "        text-align: right;\n",
              "    }\n",
              "</style>\n",
              "<table border=\"1\" class=\"dataframe\">\n",
              "  <thead>\n",
              "    <tr style=\"text-align: right;\">\n",
              "      <th></th>\n",
              "      <th>id</th>\n",
              "      <th>V1</th>\n",
              "      <th>V2</th>\n",
              "      <th>V3</th>\n",
              "      <th>V4</th>\n",
              "      <th>V5</th>\n",
              "      <th>V6</th>\n",
              "      <th>V7</th>\n",
              "      <th>V8</th>\n",
              "      <th>V9</th>\n",
              "      <th>...</th>\n",
              "      <th>V21</th>\n",
              "      <th>V22</th>\n",
              "      <th>V23</th>\n",
              "      <th>V24</th>\n",
              "      <th>V25</th>\n",
              "      <th>V26</th>\n",
              "      <th>V27</th>\n",
              "      <th>V28</th>\n",
              "      <th>Amount</th>\n",
              "      <th>Class</th>\n",
              "    </tr>\n",
              "  </thead>\n",
              "  <tbody>\n",
              "    <tr>\n",
              "      <th>0</th>\n",
              "      <td>0</td>\n",
              "      <td>-0.260648</td>\n",
              "      <td>-0.469648</td>\n",
              "      <td>2.496266</td>\n",
              "      <td>-0.083724</td>\n",
              "      <td>0.129681</td>\n",
              "      <td>0.732898</td>\n",
              "      <td>0.519014</td>\n",
              "      <td>-0.130006</td>\n",
              "      <td>0.727159</td>\n",
              "      <td>...</td>\n",
              "      <td>-0.110552</td>\n",
              "      <td>0.217606</td>\n",
              "      <td>-0.134794</td>\n",
              "      <td>0.165959</td>\n",
              "      <td>0.126280</td>\n",
              "      <td>-0.434824</td>\n",
              "      <td>-0.081230</td>\n",
              "      <td>-0.151045</td>\n",
              "      <td>17982.10</td>\n",
              "      <td>0</td>\n",
              "    </tr>\n",
              "    <tr>\n",
              "      <th>1</th>\n",
              "      <td>1</td>\n",
              "      <td>0.985100</td>\n",
              "      <td>-0.356045</td>\n",
              "      <td>0.558056</td>\n",
              "      <td>-0.429654</td>\n",
              "      <td>0.277140</td>\n",
              "      <td>0.428605</td>\n",
              "      <td>0.406466</td>\n",
              "      <td>-0.133118</td>\n",
              "      <td>0.347452</td>\n",
              "      <td>...</td>\n",
              "      <td>-0.194936</td>\n",
              "      <td>-0.605761</td>\n",
              "      <td>0.079469</td>\n",
              "      <td>-0.577395</td>\n",
              "      <td>0.190090</td>\n",
              "      <td>0.296503</td>\n",
              "      <td>-0.248052</td>\n",
              "      <td>-0.064512</td>\n",
              "      <td>6531.37</td>\n",
              "      <td>0</td>\n",
              "    </tr>\n",
              "    <tr>\n",
              "      <th>2</th>\n",
              "      <td>2</td>\n",
              "      <td>-0.260272</td>\n",
              "      <td>-0.949385</td>\n",
              "      <td>1.728538</td>\n",
              "      <td>-0.457986</td>\n",
              "      <td>0.074062</td>\n",
              "      <td>1.419481</td>\n",
              "      <td>0.743511</td>\n",
              "      <td>-0.095576</td>\n",
              "      <td>-0.261297</td>\n",
              "      <td>...</td>\n",
              "      <td>-0.005020</td>\n",
              "      <td>0.702906</td>\n",
              "      <td>0.945045</td>\n",
              "      <td>-1.154666</td>\n",
              "      <td>-0.605564</td>\n",
              "      <td>-0.312895</td>\n",
              "      <td>-0.300258</td>\n",
              "      <td>-0.244718</td>\n",
              "      <td>2513.54</td>\n",
              "      <td>0</td>\n",
              "    </tr>\n",
              "    <tr>\n",
              "      <th>3</th>\n",
              "      <td>3</td>\n",
              "      <td>-0.152152</td>\n",
              "      <td>-0.508959</td>\n",
              "      <td>1.746840</td>\n",
              "      <td>-1.090178</td>\n",
              "      <td>0.249486</td>\n",
              "      <td>1.143312</td>\n",
              "      <td>0.518269</td>\n",
              "      <td>-0.065130</td>\n",
              "      <td>-0.205698</td>\n",
              "      <td>...</td>\n",
              "      <td>-0.146927</td>\n",
              "      <td>-0.038212</td>\n",
              "      <td>-0.214048</td>\n",
              "      <td>-1.893131</td>\n",
              "      <td>1.003963</td>\n",
              "      <td>-0.515950</td>\n",
              "      <td>-0.165316</td>\n",
              "      <td>0.048424</td>\n",
              "      <td>5384.44</td>\n",
              "      <td>0</td>\n",
              "    </tr>\n",
              "    <tr>\n",
              "      <th>4</th>\n",
              "      <td>4</td>\n",
              "      <td>-0.206820</td>\n",
              "      <td>-0.165280</td>\n",
              "      <td>1.527053</td>\n",
              "      <td>-0.448293</td>\n",
              "      <td>0.106125</td>\n",
              "      <td>0.530549</td>\n",
              "      <td>0.658849</td>\n",
              "      <td>-0.212660</td>\n",
              "      <td>1.049921</td>\n",
              "      <td>...</td>\n",
              "      <td>-0.106984</td>\n",
              "      <td>0.729727</td>\n",
              "      <td>-0.161666</td>\n",
              "      <td>0.312561</td>\n",
              "      <td>-0.414116</td>\n",
              "      <td>1.071126</td>\n",
              "      <td>0.023712</td>\n",
              "      <td>0.419117</td>\n",
              "      <td>14278.97</td>\n",
              "      <td>0</td>\n",
              "    </tr>\n",
              "    <tr>\n",
              "      <th>...</th>\n",
              "      <td>...</td>\n",
              "      <td>...</td>\n",
              "      <td>...</td>\n",
              "      <td>...</td>\n",
              "      <td>...</td>\n",
              "      <td>...</td>\n",
              "      <td>...</td>\n",
              "      <td>...</td>\n",
              "      <td>...</td>\n",
              "      <td>...</td>\n",
              "      <td>...</td>\n",
              "      <td>...</td>\n",
              "      <td>...</td>\n",
              "      <td>...</td>\n",
              "      <td>...</td>\n",
              "      <td>...</td>\n",
              "      <td>...</td>\n",
              "      <td>...</td>\n",
              "      <td>...</td>\n",
              "      <td>...</td>\n",
              "      <td>...</td>\n",
              "    </tr>\n",
              "    <tr>\n",
              "      <th>568625</th>\n",
              "      <td>568625</td>\n",
              "      <td>-0.833437</td>\n",
              "      <td>0.061886</td>\n",
              "      <td>-0.899794</td>\n",
              "      <td>0.904227</td>\n",
              "      <td>-1.002401</td>\n",
              "      <td>0.481454</td>\n",
              "      <td>-0.370393</td>\n",
              "      <td>0.189694</td>\n",
              "      <td>-0.938153</td>\n",
              "      <td>...</td>\n",
              "      <td>0.167503</td>\n",
              "      <td>0.419731</td>\n",
              "      <td>1.288249</td>\n",
              "      <td>-0.900861</td>\n",
              "      <td>0.560661</td>\n",
              "      <td>-0.006018</td>\n",
              "      <td>3.308968</td>\n",
              "      <td>0.081564</td>\n",
              "      <td>4394.16</td>\n",
              "      <td>1</td>\n",
              "    </tr>\n",
              "    <tr>\n",
              "      <th>568626</th>\n",
              "      <td>568626</td>\n",
              "      <td>-0.670459</td>\n",
              "      <td>-0.202896</td>\n",
              "      <td>-0.068129</td>\n",
              "      <td>-0.267328</td>\n",
              "      <td>-0.133660</td>\n",
              "      <td>0.237148</td>\n",
              "      <td>-0.016935</td>\n",
              "      <td>-0.147733</td>\n",
              "      <td>0.483894</td>\n",
              "      <td>...</td>\n",
              "      <td>0.031874</td>\n",
              "      <td>0.388161</td>\n",
              "      <td>-0.154257</td>\n",
              "      <td>-0.846452</td>\n",
              "      <td>-0.153443</td>\n",
              "      <td>1.961398</td>\n",
              "      <td>-1.528642</td>\n",
              "      <td>1.704306</td>\n",
              "      <td>4653.40</td>\n",
              "      <td>1</td>\n",
              "    </tr>\n",
              "    <tr>\n",
              "      <th>568627</th>\n",
              "      <td>568627</td>\n",
              "      <td>-0.311997</td>\n",
              "      <td>-0.004095</td>\n",
              "      <td>0.137526</td>\n",
              "      <td>-0.035893</td>\n",
              "      <td>-0.042291</td>\n",
              "      <td>0.121098</td>\n",
              "      <td>-0.070958</td>\n",
              "      <td>-0.019997</td>\n",
              "      <td>-0.122048</td>\n",
              "      <td>...</td>\n",
              "      <td>0.140788</td>\n",
              "      <td>0.536523</td>\n",
              "      <td>-0.211100</td>\n",
              "      <td>-0.448909</td>\n",
              "      <td>0.540073</td>\n",
              "      <td>-0.755836</td>\n",
              "      <td>-0.487540</td>\n",
              "      <td>-0.268741</td>\n",
              "      <td>23572.85</td>\n",
              "      <td>1</td>\n",
              "    </tr>\n",
              "    <tr>\n",
              "      <th>568628</th>\n",
              "      <td>568628</td>\n",
              "      <td>0.636871</td>\n",
              "      <td>-0.516970</td>\n",
              "      <td>-0.300889</td>\n",
              "      <td>-0.144480</td>\n",
              "      <td>0.131042</td>\n",
              "      <td>-0.294148</td>\n",
              "      <td>0.580568</td>\n",
              "      <td>-0.207723</td>\n",
              "      <td>0.893527</td>\n",
              "      <td>...</td>\n",
              "      <td>-0.060381</td>\n",
              "      <td>-0.195609</td>\n",
              "      <td>-0.175488</td>\n",
              "      <td>-0.554643</td>\n",
              "      <td>-0.099669</td>\n",
              "      <td>-1.434931</td>\n",
              "      <td>-0.159269</td>\n",
              "      <td>-0.076251</td>\n",
              "      <td>10160.83</td>\n",
              "      <td>1</td>\n",
              "    </tr>\n",
              "    <tr>\n",
              "      <th>568629</th>\n",
              "      <td>568629</td>\n",
              "      <td>-0.795144</td>\n",
              "      <td>0.433236</td>\n",
              "      <td>-0.649140</td>\n",
              "      <td>0.374732</td>\n",
              "      <td>-0.244976</td>\n",
              "      <td>-0.603493</td>\n",
              "      <td>-0.347613</td>\n",
              "      <td>-0.340814</td>\n",
              "      <td>0.253971</td>\n",
              "      <td>...</td>\n",
              "      <td>0.534853</td>\n",
              "      <td>-0.291514</td>\n",
              "      <td>0.157303</td>\n",
              "      <td>0.931030</td>\n",
              "      <td>-0.349423</td>\n",
              "      <td>-1.090974</td>\n",
              "      <td>-1.575113</td>\n",
              "      <td>0.722936</td>\n",
              "      <td>21493.92</td>\n",
              "      <td>1</td>\n",
              "    </tr>\n",
              "  </tbody>\n",
              "</table>\n",
              "<p>568630 rows × 31 columns</p>\n",
              "</div>\n",
              "    <div class=\"colab-df-buttons\">\n",
              "\n",
              "  <div class=\"colab-df-container\">\n",
              "    <button class=\"colab-df-convert\" onclick=\"convertToInteractive('df-382a05d0-0a47-4994-95b0-ae38e56c280a')\"\n",
              "            title=\"Convert this dataframe to an interactive table.\"\n",
              "            style=\"display:none;\">\n",
              "\n",
              "  <svg xmlns=\"http://www.w3.org/2000/svg\" height=\"24px\" viewBox=\"0 -960 960 960\">\n",
              "    <path d=\"M120-120v-720h720v720H120Zm60-500h600v-160H180v160Zm220 220h160v-160H400v160Zm0 220h160v-160H400v160ZM180-400h160v-160H180v160Zm440 0h160v-160H620v160ZM180-180h160v-160H180v160Zm440 0h160v-160H620v160Z\"/>\n",
              "  </svg>\n",
              "    </button>\n",
              "\n",
              "  <style>\n",
              "    .colab-df-container {\n",
              "      display:flex;\n",
              "      gap: 12px;\n",
              "    }\n",
              "\n",
              "    .colab-df-convert {\n",
              "      background-color: #E8F0FE;\n",
              "      border: none;\n",
              "      border-radius: 50%;\n",
              "      cursor: pointer;\n",
              "      display: none;\n",
              "      fill: #1967D2;\n",
              "      height: 32px;\n",
              "      padding: 0 0 0 0;\n",
              "      width: 32px;\n",
              "    }\n",
              "\n",
              "    .colab-df-convert:hover {\n",
              "      background-color: #E2EBFA;\n",
              "      box-shadow: 0px 1px 2px rgba(60, 64, 67, 0.3), 0px 1px 3px 1px rgba(60, 64, 67, 0.15);\n",
              "      fill: #174EA6;\n",
              "    }\n",
              "\n",
              "    .colab-df-buttons div {\n",
              "      margin-bottom: 4px;\n",
              "    }\n",
              "\n",
              "    [theme=dark] .colab-df-convert {\n",
              "      background-color: #3B4455;\n",
              "      fill: #D2E3FC;\n",
              "    }\n",
              "\n",
              "    [theme=dark] .colab-df-convert:hover {\n",
              "      background-color: #434B5C;\n",
              "      box-shadow: 0px 1px 3px 1px rgba(0, 0, 0, 0.15);\n",
              "      filter: drop-shadow(0px 1px 2px rgba(0, 0, 0, 0.3));\n",
              "      fill: #FFFFFF;\n",
              "    }\n",
              "  </style>\n",
              "\n",
              "    <script>\n",
              "      const buttonEl =\n",
              "        document.querySelector('#df-382a05d0-0a47-4994-95b0-ae38e56c280a button.colab-df-convert');\n",
              "      buttonEl.style.display =\n",
              "        google.colab.kernel.accessAllowed ? 'block' : 'none';\n",
              "\n",
              "      async function convertToInteractive(key) {\n",
              "        const element = document.querySelector('#df-382a05d0-0a47-4994-95b0-ae38e56c280a');\n",
              "        const dataTable =\n",
              "          await google.colab.kernel.invokeFunction('convertToInteractive',\n",
              "                                                    [key], {});\n",
              "        if (!dataTable) return;\n",
              "\n",
              "        const docLinkHtml = 'Like what you see? Visit the ' +\n",
              "          '<a target=\"_blank\" href=https://colab.research.google.com/notebooks/data_table.ipynb>data table notebook</a>'\n",
              "          + ' to learn more about interactive tables.';\n",
              "        element.innerHTML = '';\n",
              "        dataTable['output_type'] = 'display_data';\n",
              "        await google.colab.output.renderOutput(dataTable, element);\n",
              "        const docLink = document.createElement('div');\n",
              "        docLink.innerHTML = docLinkHtml;\n",
              "        element.appendChild(docLink);\n",
              "      }\n",
              "    </script>\n",
              "  </div>\n",
              "\n",
              "\n",
              "<div id=\"df-872cf71b-a48e-482e-914a-128e022ae36d\">\n",
              "  <button class=\"colab-df-quickchart\" onclick=\"quickchart('df-872cf71b-a48e-482e-914a-128e022ae36d')\"\n",
              "            title=\"Suggest charts\"\n",
              "            style=\"display:none;\">\n",
              "\n",
              "<svg xmlns=\"http://www.w3.org/2000/svg\" height=\"24px\"viewBox=\"0 0 24 24\"\n",
              "     width=\"24px\">\n",
              "    <g>\n",
              "        <path d=\"M19 3H5c-1.1 0-2 .9-2 2v14c0 1.1.9 2 2 2h14c1.1 0 2-.9 2-2V5c0-1.1-.9-2-2-2zM9 17H7v-7h2v7zm4 0h-2V7h2v10zm4 0h-2v-4h2v4z\"/>\n",
              "    </g>\n",
              "</svg>\n",
              "  </button>\n",
              "\n",
              "<style>\n",
              "  .colab-df-quickchart {\n",
              "      --bg-color: #E8F0FE;\n",
              "      --fill-color: #1967D2;\n",
              "      --hover-bg-color: #E2EBFA;\n",
              "      --hover-fill-color: #174EA6;\n",
              "      --disabled-fill-color: #AAA;\n",
              "      --disabled-bg-color: #DDD;\n",
              "  }\n",
              "\n",
              "  [theme=dark] .colab-df-quickchart {\n",
              "      --bg-color: #3B4455;\n",
              "      --fill-color: #D2E3FC;\n",
              "      --hover-bg-color: #434B5C;\n",
              "      --hover-fill-color: #FFFFFF;\n",
              "      --disabled-bg-color: #3B4455;\n",
              "      --disabled-fill-color: #666;\n",
              "  }\n",
              "\n",
              "  .colab-df-quickchart {\n",
              "    background-color: var(--bg-color);\n",
              "    border: none;\n",
              "    border-radius: 50%;\n",
              "    cursor: pointer;\n",
              "    display: none;\n",
              "    fill: var(--fill-color);\n",
              "    height: 32px;\n",
              "    padding: 0;\n",
              "    width: 32px;\n",
              "  }\n",
              "\n",
              "  .colab-df-quickchart:hover {\n",
              "    background-color: var(--hover-bg-color);\n",
              "    box-shadow: 0 1px 2px rgba(60, 64, 67, 0.3), 0 1px 3px 1px rgba(60, 64, 67, 0.15);\n",
              "    fill: var(--button-hover-fill-color);\n",
              "  }\n",
              "\n",
              "  .colab-df-quickchart-complete:disabled,\n",
              "  .colab-df-quickchart-complete:disabled:hover {\n",
              "    background-color: var(--disabled-bg-color);\n",
              "    fill: var(--disabled-fill-color);\n",
              "    box-shadow: none;\n",
              "  }\n",
              "\n",
              "  .colab-df-spinner {\n",
              "    border: 2px solid var(--fill-color);\n",
              "    border-color: transparent;\n",
              "    border-bottom-color: var(--fill-color);\n",
              "    animation:\n",
              "      spin 1s steps(1) infinite;\n",
              "  }\n",
              "\n",
              "  @keyframes spin {\n",
              "    0% {\n",
              "      border-color: transparent;\n",
              "      border-bottom-color: var(--fill-color);\n",
              "      border-left-color: var(--fill-color);\n",
              "    }\n",
              "    20% {\n",
              "      border-color: transparent;\n",
              "      border-left-color: var(--fill-color);\n",
              "      border-top-color: var(--fill-color);\n",
              "    }\n",
              "    30% {\n",
              "      border-color: transparent;\n",
              "      border-left-color: var(--fill-color);\n",
              "      border-top-color: var(--fill-color);\n",
              "      border-right-color: var(--fill-color);\n",
              "    }\n",
              "    40% {\n",
              "      border-color: transparent;\n",
              "      border-right-color: var(--fill-color);\n",
              "      border-top-color: var(--fill-color);\n",
              "    }\n",
              "    60% {\n",
              "      border-color: transparent;\n",
              "      border-right-color: var(--fill-color);\n",
              "    }\n",
              "    80% {\n",
              "      border-color: transparent;\n",
              "      border-right-color: var(--fill-color);\n",
              "      border-bottom-color: var(--fill-color);\n",
              "    }\n",
              "    90% {\n",
              "      border-color: transparent;\n",
              "      border-bottom-color: var(--fill-color);\n",
              "    }\n",
              "  }\n",
              "</style>\n",
              "\n",
              "  <script>\n",
              "    async function quickchart(key) {\n",
              "      const quickchartButtonEl =\n",
              "        document.querySelector('#' + key + ' button');\n",
              "      quickchartButtonEl.disabled = true;  // To prevent multiple clicks.\n",
              "      quickchartButtonEl.classList.add('colab-df-spinner');\n",
              "      try {\n",
              "        const charts = await google.colab.kernel.invokeFunction(\n",
              "            'suggestCharts', [key], {});\n",
              "      } catch (error) {\n",
              "        console.error('Error during call to suggestCharts:', error);\n",
              "      }\n",
              "      quickchartButtonEl.classList.remove('colab-df-spinner');\n",
              "      quickchartButtonEl.classList.add('colab-df-quickchart-complete');\n",
              "    }\n",
              "    (() => {\n",
              "      let quickchartButtonEl =\n",
              "        document.querySelector('#df-872cf71b-a48e-482e-914a-128e022ae36d button');\n",
              "      quickchartButtonEl.style.display =\n",
              "        google.colab.kernel.accessAllowed ? 'block' : 'none';\n",
              "    })();\n",
              "  </script>\n",
              "</div>\n",
              "\n",
              "  <div id=\"id_22be0b90-68a0-427d-b666-3b41dc95dec3\">\n",
              "    <style>\n",
              "      .colab-df-generate {\n",
              "        background-color: #E8F0FE;\n",
              "        border: none;\n",
              "        border-radius: 50%;\n",
              "        cursor: pointer;\n",
              "        display: none;\n",
              "        fill: #1967D2;\n",
              "        height: 32px;\n",
              "        padding: 0 0 0 0;\n",
              "        width: 32px;\n",
              "      }\n",
              "\n",
              "      .colab-df-generate:hover {\n",
              "        background-color: #E2EBFA;\n",
              "        box-shadow: 0px 1px 2px rgba(60, 64, 67, 0.3), 0px 1px 3px 1px rgba(60, 64, 67, 0.15);\n",
              "        fill: #174EA6;\n",
              "      }\n",
              "\n",
              "      [theme=dark] .colab-df-generate {\n",
              "        background-color: #3B4455;\n",
              "        fill: #D2E3FC;\n",
              "      }\n",
              "\n",
              "      [theme=dark] .colab-df-generate:hover {\n",
              "        background-color: #434B5C;\n",
              "        box-shadow: 0px 1px 3px 1px rgba(0, 0, 0, 0.15);\n",
              "        filter: drop-shadow(0px 1px 2px rgba(0, 0, 0, 0.3));\n",
              "        fill: #FFFFFF;\n",
              "      }\n",
              "    </style>\n",
              "    <button class=\"colab-df-generate\" onclick=\"generateWithVariable('df')\"\n",
              "            title=\"Generate code using this dataframe.\"\n",
              "            style=\"display:none;\">\n",
              "\n",
              "  <svg xmlns=\"http://www.w3.org/2000/svg\" height=\"24px\"viewBox=\"0 0 24 24\"\n",
              "       width=\"24px\">\n",
              "    <path d=\"M7,19H8.4L18.45,9,17,7.55,7,17.6ZM5,21V16.75L18.45,3.32a2,2,0,0,1,2.83,0l1.4,1.43a1.91,1.91,0,0,1,.58,1.4,1.91,1.91,0,0,1-.58,1.4L9.25,21ZM18.45,9,17,7.55Zm-12,3A5.31,5.31,0,0,0,4.9,8.1,5.31,5.31,0,0,0,1,6.5,5.31,5.31,0,0,0,4.9,4.9,5.31,5.31,0,0,0,6.5,1,5.31,5.31,0,0,0,8.1,4.9,5.31,5.31,0,0,0,12,6.5,5.46,5.46,0,0,0,6.5,12Z\"/>\n",
              "  </svg>\n",
              "    </button>\n",
              "    <script>\n",
              "      (() => {\n",
              "      const buttonEl =\n",
              "        document.querySelector('#id_22be0b90-68a0-427d-b666-3b41dc95dec3 button.colab-df-generate');\n",
              "      buttonEl.style.display =\n",
              "        google.colab.kernel.accessAllowed ? 'block' : 'none';\n",
              "\n",
              "      buttonEl.onclick = () => {\n",
              "        google.colab.notebook.generateWithVariable('df');\n",
              "      }\n",
              "      })();\n",
              "    </script>\n",
              "  </div>\n",
              "\n",
              "    </div>\n",
              "  </div>\n"
            ]
          },
          "metadata": {},
          "execution_count": 5
        }
      ]
    },
    {
      "cell_type": "code",
      "source": [
        "df.shape #checking the shape of the data"
      ],
      "metadata": {
        "colab": {
          "base_uri": "https://localhost:8080/"
        },
        "id": "Ci89KzzFjSH8",
        "outputId": "a508b702-c375-41f7-dc8c-b04905483fef"
      },
      "execution_count": null,
      "outputs": [
        {
          "output_type": "execute_result",
          "data": {
            "text/plain": [
              "(568630, 31)"
            ]
          },
          "metadata": {},
          "execution_count": 6
        }
      ]
    },
    {
      "cell_type": "code",
      "source": [
        "df.info() # checking the full info of the data"
      ],
      "metadata": {
        "colab": {
          "base_uri": "https://localhost:8080/"
        },
        "id": "HOLVdeg_jvF0",
        "outputId": "c2ed5f20-20a2-43ea-c5c0-4a852948886d"
      },
      "execution_count": null,
      "outputs": [
        {
          "output_type": "stream",
          "name": "stdout",
          "text": [
            "<class 'pandas.core.frame.DataFrame'>\n",
            "RangeIndex: 568630 entries, 0 to 568629\n",
            "Data columns (total 31 columns):\n",
            " #   Column  Non-Null Count   Dtype  \n",
            "---  ------  --------------   -----  \n",
            " 0   id      568630 non-null  int64  \n",
            " 1   V1      568630 non-null  float64\n",
            " 2   V2      568630 non-null  float64\n",
            " 3   V3      568630 non-null  float64\n",
            " 4   V4      568630 non-null  float64\n",
            " 5   V5      568630 non-null  float64\n",
            " 6   V6      568630 non-null  float64\n",
            " 7   V7      568630 non-null  float64\n",
            " 8   V8      568630 non-null  float64\n",
            " 9   V9      568630 non-null  float64\n",
            " 10  V10     568630 non-null  float64\n",
            " 11  V11     568630 non-null  float64\n",
            " 12  V12     568630 non-null  float64\n",
            " 13  V13     568630 non-null  float64\n",
            " 14  V14     568630 non-null  float64\n",
            " 15  V15     568630 non-null  float64\n",
            " 16  V16     568630 non-null  float64\n",
            " 17  V17     568630 non-null  float64\n",
            " 18  V18     568630 non-null  float64\n",
            " 19  V19     568630 non-null  float64\n",
            " 20  V20     568630 non-null  float64\n",
            " 21  V21     568630 non-null  float64\n",
            " 22  V22     568630 non-null  float64\n",
            " 23  V23     568630 non-null  float64\n",
            " 24  V24     568630 non-null  float64\n",
            " 25  V25     568630 non-null  float64\n",
            " 26  V26     568630 non-null  float64\n",
            " 27  V27     568630 non-null  float64\n",
            " 28  V28     568630 non-null  float64\n",
            " 29  Amount  568630 non-null  float64\n",
            " 30  Class   568630 non-null  int64  \n",
            "dtypes: float64(29), int64(2)\n",
            "memory usage: 134.5 MB\n"
          ]
        }
      ]
    },
    {
      "cell_type": "code",
      "source": [
        "df.duplicated().sum()  # checking whether the data contain the duplicate data or not"
      ],
      "metadata": {
        "colab": {
          "base_uri": "https://localhost:8080/"
        },
        "id": "Km7-5TnSj1Tp",
        "outputId": "a344409d-c4c3-4e56-8d14-2b2aced33e1f"
      },
      "execution_count": null,
      "outputs": [
        {
          "output_type": "execute_result",
          "data": {
            "text/plain": [
              "0"
            ]
          },
          "metadata": {},
          "execution_count": 8
        }
      ]
    },
    {
      "cell_type": "code",
      "source": [
        "df.isnull().sum() # cecking whether the data has null value or not"
      ],
      "metadata": {
        "colab": {
          "base_uri": "https://localhost:8080/"
        },
        "id": "HaJG-TCXj_v3",
        "outputId": "f92bc82f-ee9f-4c42-91c3-6ed1fc0856f2"
      },
      "execution_count": null,
      "outputs": [
        {
          "output_type": "execute_result",
          "data": {
            "text/plain": [
              "id        0\n",
              "V1        0\n",
              "V2        0\n",
              "V3        0\n",
              "V4        0\n",
              "V5        0\n",
              "V6        0\n",
              "V7        0\n",
              "V8        0\n",
              "V9        0\n",
              "V10       0\n",
              "V11       0\n",
              "V12       0\n",
              "V13       0\n",
              "V14       0\n",
              "V15       0\n",
              "V16       0\n",
              "V17       0\n",
              "V18       0\n",
              "V19       0\n",
              "V20       0\n",
              "V21       0\n",
              "V22       0\n",
              "V23       0\n",
              "V24       0\n",
              "V25       0\n",
              "V26       0\n",
              "V27       0\n",
              "V28       0\n",
              "Amount    0\n",
              "Class     0\n",
              "dtype: int64"
            ]
          },
          "metadata": {},
          "execution_count": 9
        }
      ]
    },
    {
      "cell_type": "code",
      "source": [
        "# checking the target column --> the target column is class\n",
        "df.Class.unique()"
      ],
      "metadata": {
        "colab": {
          "base_uri": "https://localhost:8080/"
        },
        "id": "OZ0OjUO4k8em",
        "outputId": "d0e651ee-eb31-49ae-f14f-b3d72e6dd11a"
      },
      "execution_count": null,
      "outputs": [
        {
          "output_type": "execute_result",
          "data": {
            "text/plain": [
              "array([0, 1])"
            ]
          },
          "metadata": {},
          "execution_count": 10
        }
      ]
    },
    {
      "cell_type": "code",
      "source": [
        "# checking the bias of the data\n",
        "df.Class.value_counts()  # both the unique value of 0 and 1 are same the data is fully bias in terms of"
      ],
      "metadata": {
        "colab": {
          "base_uri": "https://localhost:8080/"
        },
        "id": "ww0aszklln5j",
        "outputId": "852b7676-13c9-4993-83f3-cffb6c650ed0"
      },
      "execution_count": null,
      "outputs": [
        {
          "output_type": "execute_result",
          "data": {
            "text/plain": [
              "0    284315\n",
              "1    284315\n",
              "Name: Class, dtype: int64"
            ]
          },
          "metadata": {},
          "execution_count": 11
        }
      ]
    },
    {
      "cell_type": "code",
      "source": [
        "\n",
        "df.describe().round(3)"
      ],
      "metadata": {
        "colab": {
          "base_uri": "https://localhost:8080/",
          "height": 349
        },
        "id": "7OKls2D7naG6",
        "outputId": "5bfca625-f5a9-4cc9-b32d-b9e2a2bfca0a"
      },
      "execution_count": null,
      "outputs": [
        {
          "output_type": "execute_result",
          "data": {
            "text/plain": [
              "               id          V1          V2          V3          V4          V5  \\\n",
              "count  568630.000  568630.000  568630.000  568630.000  568630.000  568630.000   \n",
              "mean   284314.500      -0.000      -0.000      -0.000      -0.000       0.000   \n",
              "std    164149.486       1.000       1.000       1.000       1.000       1.000   \n",
              "min         0.000      -3.496     -49.967      -3.184      -4.951      -9.953   \n",
              "25%    142157.250      -0.565      -0.487      -0.649      -0.656      -0.293   \n",
              "50%    284314.500      -0.094      -0.136       0.000      -0.074       0.081   \n",
              "75%    426471.750       0.833       0.344       0.629       0.707       0.440   \n",
              "max    568629.000       2.229       4.362      14.126       3.202      42.717   \n",
              "\n",
              "               V6          V7          V8          V9  ...         V21  \\\n",
              "count  568630.000  568630.000  568630.000  568630.000  ...  568630.000   \n",
              "mean       -0.000      -0.000       0.000       0.000  ...       0.000   \n",
              "std         1.000       1.000       1.000       1.000  ...       1.000   \n",
              "min       -21.111      -4.352     -10.756      -3.752  ...     -19.383   \n",
              "25%        -0.446      -0.284      -0.192      -0.569  ...      -0.166   \n",
              "50%         0.079       0.233      -0.115       0.093  ...      -0.037   \n",
              "75%         0.498       0.526       0.047       0.559  ...       0.148   \n",
              "max        26.168     217.873       5.958      20.270  ...       8.087   \n",
              "\n",
              "              V22         V23         V24         V25         V26         V27  \\\n",
              "count  568630.000  568630.000  568630.000  568630.000  568630.000  568630.000   \n",
              "mean        0.000       0.000      -0.000      -0.000      -0.000      -0.000   \n",
              "std         1.000       1.000       1.000       1.000       1.000       1.000   \n",
              "min        -7.735     -30.295      -4.068     -13.613      -8.227     -10.499   \n",
              "25%        -0.490      -0.238      -0.652      -0.554      -0.632      -0.305   \n",
              "50%        -0.027      -0.060       0.016      -0.008      -0.012      -0.173   \n",
              "75%         0.464       0.156       0.701       0.550       0.673       0.334   \n",
              "max        12.633      31.708      12.966      14.622       5.623     113.231   \n",
              "\n",
              "              V28      Amount     Class  \n",
              "count  568630.000  568630.000  568630.0  \n",
              "mean        0.000   12041.958       0.5  \n",
              "std         1.000    6919.644       0.5  \n",
              "min       -39.035      50.010       0.0  \n",
              "25%        -0.232    6054.892       0.0  \n",
              "50%        -0.014   12030.150       0.5  \n",
              "75%         0.410   18036.330       1.0  \n",
              "max        77.256   24039.930       1.0  \n",
              "\n",
              "[8 rows x 31 columns]"
            ],
            "text/html": [
              "\n",
              "  <div id=\"df-0fa7c705-c29e-4707-89c2-bade5fd8b332\" class=\"colab-df-container\">\n",
              "    <div>\n",
              "<style scoped>\n",
              "    .dataframe tbody tr th:only-of-type {\n",
              "        vertical-align: middle;\n",
              "    }\n",
              "\n",
              "    .dataframe tbody tr th {\n",
              "        vertical-align: top;\n",
              "    }\n",
              "\n",
              "    .dataframe thead th {\n",
              "        text-align: right;\n",
              "    }\n",
              "</style>\n",
              "<table border=\"1\" class=\"dataframe\">\n",
              "  <thead>\n",
              "    <tr style=\"text-align: right;\">\n",
              "      <th></th>\n",
              "      <th>id</th>\n",
              "      <th>V1</th>\n",
              "      <th>V2</th>\n",
              "      <th>V3</th>\n",
              "      <th>V4</th>\n",
              "      <th>V5</th>\n",
              "      <th>V6</th>\n",
              "      <th>V7</th>\n",
              "      <th>V8</th>\n",
              "      <th>V9</th>\n",
              "      <th>...</th>\n",
              "      <th>V21</th>\n",
              "      <th>V22</th>\n",
              "      <th>V23</th>\n",
              "      <th>V24</th>\n",
              "      <th>V25</th>\n",
              "      <th>V26</th>\n",
              "      <th>V27</th>\n",
              "      <th>V28</th>\n",
              "      <th>Amount</th>\n",
              "      <th>Class</th>\n",
              "    </tr>\n",
              "  </thead>\n",
              "  <tbody>\n",
              "    <tr>\n",
              "      <th>count</th>\n",
              "      <td>568630.000</td>\n",
              "      <td>568630.000</td>\n",
              "      <td>568630.000</td>\n",
              "      <td>568630.000</td>\n",
              "      <td>568630.000</td>\n",
              "      <td>568630.000</td>\n",
              "      <td>568630.000</td>\n",
              "      <td>568630.000</td>\n",
              "      <td>568630.000</td>\n",
              "      <td>568630.000</td>\n",
              "      <td>...</td>\n",
              "      <td>568630.000</td>\n",
              "      <td>568630.000</td>\n",
              "      <td>568630.000</td>\n",
              "      <td>568630.000</td>\n",
              "      <td>568630.000</td>\n",
              "      <td>568630.000</td>\n",
              "      <td>568630.000</td>\n",
              "      <td>568630.000</td>\n",
              "      <td>568630.000</td>\n",
              "      <td>568630.0</td>\n",
              "    </tr>\n",
              "    <tr>\n",
              "      <th>mean</th>\n",
              "      <td>284314.500</td>\n",
              "      <td>-0.000</td>\n",
              "      <td>-0.000</td>\n",
              "      <td>-0.000</td>\n",
              "      <td>-0.000</td>\n",
              "      <td>0.000</td>\n",
              "      <td>-0.000</td>\n",
              "      <td>-0.000</td>\n",
              "      <td>0.000</td>\n",
              "      <td>0.000</td>\n",
              "      <td>...</td>\n",
              "      <td>0.000</td>\n",
              "      <td>0.000</td>\n",
              "      <td>0.000</td>\n",
              "      <td>-0.000</td>\n",
              "      <td>-0.000</td>\n",
              "      <td>-0.000</td>\n",
              "      <td>-0.000</td>\n",
              "      <td>0.000</td>\n",
              "      <td>12041.958</td>\n",
              "      <td>0.5</td>\n",
              "    </tr>\n",
              "    <tr>\n",
              "      <th>std</th>\n",
              "      <td>164149.486</td>\n",
              "      <td>1.000</td>\n",
              "      <td>1.000</td>\n",
              "      <td>1.000</td>\n",
              "      <td>1.000</td>\n",
              "      <td>1.000</td>\n",
              "      <td>1.000</td>\n",
              "      <td>1.000</td>\n",
              "      <td>1.000</td>\n",
              "      <td>1.000</td>\n",
              "      <td>...</td>\n",
              "      <td>1.000</td>\n",
              "      <td>1.000</td>\n",
              "      <td>1.000</td>\n",
              "      <td>1.000</td>\n",
              "      <td>1.000</td>\n",
              "      <td>1.000</td>\n",
              "      <td>1.000</td>\n",
              "      <td>1.000</td>\n",
              "      <td>6919.644</td>\n",
              "      <td>0.5</td>\n",
              "    </tr>\n",
              "    <tr>\n",
              "      <th>min</th>\n",
              "      <td>0.000</td>\n",
              "      <td>-3.496</td>\n",
              "      <td>-49.967</td>\n",
              "      <td>-3.184</td>\n",
              "      <td>-4.951</td>\n",
              "      <td>-9.953</td>\n",
              "      <td>-21.111</td>\n",
              "      <td>-4.352</td>\n",
              "      <td>-10.756</td>\n",
              "      <td>-3.752</td>\n",
              "      <td>...</td>\n",
              "      <td>-19.383</td>\n",
              "      <td>-7.735</td>\n",
              "      <td>-30.295</td>\n",
              "      <td>-4.068</td>\n",
              "      <td>-13.613</td>\n",
              "      <td>-8.227</td>\n",
              "      <td>-10.499</td>\n",
              "      <td>-39.035</td>\n",
              "      <td>50.010</td>\n",
              "      <td>0.0</td>\n",
              "    </tr>\n",
              "    <tr>\n",
              "      <th>25%</th>\n",
              "      <td>142157.250</td>\n",
              "      <td>-0.565</td>\n",
              "      <td>-0.487</td>\n",
              "      <td>-0.649</td>\n",
              "      <td>-0.656</td>\n",
              "      <td>-0.293</td>\n",
              "      <td>-0.446</td>\n",
              "      <td>-0.284</td>\n",
              "      <td>-0.192</td>\n",
              "      <td>-0.569</td>\n",
              "      <td>...</td>\n",
              "      <td>-0.166</td>\n",
              "      <td>-0.490</td>\n",
              "      <td>-0.238</td>\n",
              "      <td>-0.652</td>\n",
              "      <td>-0.554</td>\n",
              "      <td>-0.632</td>\n",
              "      <td>-0.305</td>\n",
              "      <td>-0.232</td>\n",
              "      <td>6054.892</td>\n",
              "      <td>0.0</td>\n",
              "    </tr>\n",
              "    <tr>\n",
              "      <th>50%</th>\n",
              "      <td>284314.500</td>\n",
              "      <td>-0.094</td>\n",
              "      <td>-0.136</td>\n",
              "      <td>0.000</td>\n",
              "      <td>-0.074</td>\n",
              "      <td>0.081</td>\n",
              "      <td>0.079</td>\n",
              "      <td>0.233</td>\n",
              "      <td>-0.115</td>\n",
              "      <td>0.093</td>\n",
              "      <td>...</td>\n",
              "      <td>-0.037</td>\n",
              "      <td>-0.027</td>\n",
              "      <td>-0.060</td>\n",
              "      <td>0.016</td>\n",
              "      <td>-0.008</td>\n",
              "      <td>-0.012</td>\n",
              "      <td>-0.173</td>\n",
              "      <td>-0.014</td>\n",
              "      <td>12030.150</td>\n",
              "      <td>0.5</td>\n",
              "    </tr>\n",
              "    <tr>\n",
              "      <th>75%</th>\n",
              "      <td>426471.750</td>\n",
              "      <td>0.833</td>\n",
              "      <td>0.344</td>\n",
              "      <td>0.629</td>\n",
              "      <td>0.707</td>\n",
              "      <td>0.440</td>\n",
              "      <td>0.498</td>\n",
              "      <td>0.526</td>\n",
              "      <td>0.047</td>\n",
              "      <td>0.559</td>\n",
              "      <td>...</td>\n",
              "      <td>0.148</td>\n",
              "      <td>0.464</td>\n",
              "      <td>0.156</td>\n",
              "      <td>0.701</td>\n",
              "      <td>0.550</td>\n",
              "      <td>0.673</td>\n",
              "      <td>0.334</td>\n",
              "      <td>0.410</td>\n",
              "      <td>18036.330</td>\n",
              "      <td>1.0</td>\n",
              "    </tr>\n",
              "    <tr>\n",
              "      <th>max</th>\n",
              "      <td>568629.000</td>\n",
              "      <td>2.229</td>\n",
              "      <td>4.362</td>\n",
              "      <td>14.126</td>\n",
              "      <td>3.202</td>\n",
              "      <td>42.717</td>\n",
              "      <td>26.168</td>\n",
              "      <td>217.873</td>\n",
              "      <td>5.958</td>\n",
              "      <td>20.270</td>\n",
              "      <td>...</td>\n",
              "      <td>8.087</td>\n",
              "      <td>12.633</td>\n",
              "      <td>31.708</td>\n",
              "      <td>12.966</td>\n",
              "      <td>14.622</td>\n",
              "      <td>5.623</td>\n",
              "      <td>113.231</td>\n",
              "      <td>77.256</td>\n",
              "      <td>24039.930</td>\n",
              "      <td>1.0</td>\n",
              "    </tr>\n",
              "  </tbody>\n",
              "</table>\n",
              "<p>8 rows × 31 columns</p>\n",
              "</div>\n",
              "    <div class=\"colab-df-buttons\">\n",
              "\n",
              "  <div class=\"colab-df-container\">\n",
              "    <button class=\"colab-df-convert\" onclick=\"convertToInteractive('df-0fa7c705-c29e-4707-89c2-bade5fd8b332')\"\n",
              "            title=\"Convert this dataframe to an interactive table.\"\n",
              "            style=\"display:none;\">\n",
              "\n",
              "  <svg xmlns=\"http://www.w3.org/2000/svg\" height=\"24px\" viewBox=\"0 -960 960 960\">\n",
              "    <path d=\"M120-120v-720h720v720H120Zm60-500h600v-160H180v160Zm220 220h160v-160H400v160Zm0 220h160v-160H400v160ZM180-400h160v-160H180v160Zm440 0h160v-160H620v160ZM180-180h160v-160H180v160Zm440 0h160v-160H620v160Z\"/>\n",
              "  </svg>\n",
              "    </button>\n",
              "\n",
              "  <style>\n",
              "    .colab-df-container {\n",
              "      display:flex;\n",
              "      gap: 12px;\n",
              "    }\n",
              "\n",
              "    .colab-df-convert {\n",
              "      background-color: #E8F0FE;\n",
              "      border: none;\n",
              "      border-radius: 50%;\n",
              "      cursor: pointer;\n",
              "      display: none;\n",
              "      fill: #1967D2;\n",
              "      height: 32px;\n",
              "      padding: 0 0 0 0;\n",
              "      width: 32px;\n",
              "    }\n",
              "\n",
              "    .colab-df-convert:hover {\n",
              "      background-color: #E2EBFA;\n",
              "      box-shadow: 0px 1px 2px rgba(60, 64, 67, 0.3), 0px 1px 3px 1px rgba(60, 64, 67, 0.15);\n",
              "      fill: #174EA6;\n",
              "    }\n",
              "\n",
              "    .colab-df-buttons div {\n",
              "      margin-bottom: 4px;\n",
              "    }\n",
              "\n",
              "    [theme=dark] .colab-df-convert {\n",
              "      background-color: #3B4455;\n",
              "      fill: #D2E3FC;\n",
              "    }\n",
              "\n",
              "    [theme=dark] .colab-df-convert:hover {\n",
              "      background-color: #434B5C;\n",
              "      box-shadow: 0px 1px 3px 1px rgba(0, 0, 0, 0.15);\n",
              "      filter: drop-shadow(0px 1px 2px rgba(0, 0, 0, 0.3));\n",
              "      fill: #FFFFFF;\n",
              "    }\n",
              "  </style>\n",
              "\n",
              "    <script>\n",
              "      const buttonEl =\n",
              "        document.querySelector('#df-0fa7c705-c29e-4707-89c2-bade5fd8b332 button.colab-df-convert');\n",
              "      buttonEl.style.display =\n",
              "        google.colab.kernel.accessAllowed ? 'block' : 'none';\n",
              "\n",
              "      async function convertToInteractive(key) {\n",
              "        const element = document.querySelector('#df-0fa7c705-c29e-4707-89c2-bade5fd8b332');\n",
              "        const dataTable =\n",
              "          await google.colab.kernel.invokeFunction('convertToInteractive',\n",
              "                                                    [key], {});\n",
              "        if (!dataTable) return;\n",
              "\n",
              "        const docLinkHtml = 'Like what you see? Visit the ' +\n",
              "          '<a target=\"_blank\" href=https://colab.research.google.com/notebooks/data_table.ipynb>data table notebook</a>'\n",
              "          + ' to learn more about interactive tables.';\n",
              "        element.innerHTML = '';\n",
              "        dataTable['output_type'] = 'display_data';\n",
              "        await google.colab.output.renderOutput(dataTable, element);\n",
              "        const docLink = document.createElement('div');\n",
              "        docLink.innerHTML = docLinkHtml;\n",
              "        element.appendChild(docLink);\n",
              "      }\n",
              "    </script>\n",
              "  </div>\n",
              "\n",
              "\n",
              "<div id=\"df-7b23c45c-773c-466c-9ce7-cc7a53373efc\">\n",
              "  <button class=\"colab-df-quickchart\" onclick=\"quickchart('df-7b23c45c-773c-466c-9ce7-cc7a53373efc')\"\n",
              "            title=\"Suggest charts\"\n",
              "            style=\"display:none;\">\n",
              "\n",
              "<svg xmlns=\"http://www.w3.org/2000/svg\" height=\"24px\"viewBox=\"0 0 24 24\"\n",
              "     width=\"24px\">\n",
              "    <g>\n",
              "        <path d=\"M19 3H5c-1.1 0-2 .9-2 2v14c0 1.1.9 2 2 2h14c1.1 0 2-.9 2-2V5c0-1.1-.9-2-2-2zM9 17H7v-7h2v7zm4 0h-2V7h2v10zm4 0h-2v-4h2v4z\"/>\n",
              "    </g>\n",
              "</svg>\n",
              "  </button>\n",
              "\n",
              "<style>\n",
              "  .colab-df-quickchart {\n",
              "      --bg-color: #E8F0FE;\n",
              "      --fill-color: #1967D2;\n",
              "      --hover-bg-color: #E2EBFA;\n",
              "      --hover-fill-color: #174EA6;\n",
              "      --disabled-fill-color: #AAA;\n",
              "      --disabled-bg-color: #DDD;\n",
              "  }\n",
              "\n",
              "  [theme=dark] .colab-df-quickchart {\n",
              "      --bg-color: #3B4455;\n",
              "      --fill-color: #D2E3FC;\n",
              "      --hover-bg-color: #434B5C;\n",
              "      --hover-fill-color: #FFFFFF;\n",
              "      --disabled-bg-color: #3B4455;\n",
              "      --disabled-fill-color: #666;\n",
              "  }\n",
              "\n",
              "  .colab-df-quickchart {\n",
              "    background-color: var(--bg-color);\n",
              "    border: none;\n",
              "    border-radius: 50%;\n",
              "    cursor: pointer;\n",
              "    display: none;\n",
              "    fill: var(--fill-color);\n",
              "    height: 32px;\n",
              "    padding: 0;\n",
              "    width: 32px;\n",
              "  }\n",
              "\n",
              "  .colab-df-quickchart:hover {\n",
              "    background-color: var(--hover-bg-color);\n",
              "    box-shadow: 0 1px 2px rgba(60, 64, 67, 0.3), 0 1px 3px 1px rgba(60, 64, 67, 0.15);\n",
              "    fill: var(--button-hover-fill-color);\n",
              "  }\n",
              "\n",
              "  .colab-df-quickchart-complete:disabled,\n",
              "  .colab-df-quickchart-complete:disabled:hover {\n",
              "    background-color: var(--disabled-bg-color);\n",
              "    fill: var(--disabled-fill-color);\n",
              "    box-shadow: none;\n",
              "  }\n",
              "\n",
              "  .colab-df-spinner {\n",
              "    border: 2px solid var(--fill-color);\n",
              "    border-color: transparent;\n",
              "    border-bottom-color: var(--fill-color);\n",
              "    animation:\n",
              "      spin 1s steps(1) infinite;\n",
              "  }\n",
              "\n",
              "  @keyframes spin {\n",
              "    0% {\n",
              "      border-color: transparent;\n",
              "      border-bottom-color: var(--fill-color);\n",
              "      border-left-color: var(--fill-color);\n",
              "    }\n",
              "    20% {\n",
              "      border-color: transparent;\n",
              "      border-left-color: var(--fill-color);\n",
              "      border-top-color: var(--fill-color);\n",
              "    }\n",
              "    30% {\n",
              "      border-color: transparent;\n",
              "      border-left-color: var(--fill-color);\n",
              "      border-top-color: var(--fill-color);\n",
              "      border-right-color: var(--fill-color);\n",
              "    }\n",
              "    40% {\n",
              "      border-color: transparent;\n",
              "      border-right-color: var(--fill-color);\n",
              "      border-top-color: var(--fill-color);\n",
              "    }\n",
              "    60% {\n",
              "      border-color: transparent;\n",
              "      border-right-color: var(--fill-color);\n",
              "    }\n",
              "    80% {\n",
              "      border-color: transparent;\n",
              "      border-right-color: var(--fill-color);\n",
              "      border-bottom-color: var(--fill-color);\n",
              "    }\n",
              "    90% {\n",
              "      border-color: transparent;\n",
              "      border-bottom-color: var(--fill-color);\n",
              "    }\n",
              "  }\n",
              "</style>\n",
              "\n",
              "  <script>\n",
              "    async function quickchart(key) {\n",
              "      const quickchartButtonEl =\n",
              "        document.querySelector('#' + key + ' button');\n",
              "      quickchartButtonEl.disabled = true;  // To prevent multiple clicks.\n",
              "      quickchartButtonEl.classList.add('colab-df-spinner');\n",
              "      try {\n",
              "        const charts = await google.colab.kernel.invokeFunction(\n",
              "            'suggestCharts', [key], {});\n",
              "      } catch (error) {\n",
              "        console.error('Error during call to suggestCharts:', error);\n",
              "      }\n",
              "      quickchartButtonEl.classList.remove('colab-df-spinner');\n",
              "      quickchartButtonEl.classList.add('colab-df-quickchart-complete');\n",
              "    }\n",
              "    (() => {\n",
              "      let quickchartButtonEl =\n",
              "        document.querySelector('#df-7b23c45c-773c-466c-9ce7-cc7a53373efc button');\n",
              "      quickchartButtonEl.style.display =\n",
              "        google.colab.kernel.accessAllowed ? 'block' : 'none';\n",
              "    })();\n",
              "  </script>\n",
              "</div>\n",
              "\n",
              "    </div>\n",
              "  </div>\n"
            ]
          },
          "metadata": {},
          "execution_count": 12
        }
      ]
    },
    {
      "cell_type": "code",
      "source": [
        "plt.figure(figsize=(20, 40))\n",
        "for i, col in enumerate(df.columns):\n",
        "    plt.subplot(7, 5, i+1)\n",
        "    sns.boxplot(df[col])\n",
        "    plt.title(col)\n",
        "plt.show()    # checking the outlier of each columns one by one"
      ],
      "metadata": {
        "colab": {
          "base_uri": "https://localhost:8080/",
          "height": 1000
        },
        "id": "rEZqFOern051",
        "outputId": "727f5217-be50-45a7-aa5e-7bb86f47bda2"
      },
      "execution_count": null,
      "outputs": [
        {
          "output_type": "display_data",
          "data": {
            "text/plain": [
              "<Figure size 2000x4000 with 31 Axes>"
            ],
            "image/png": "[encoded data removed]"
          },
          "metadata": {}
        }
      ]
    },
    {
      "cell_type": "code",
      "source": [
        "# As there are so much of outliers and we dont know which outliers or columns to remove on the basis of outliers only as each column can hold valuable info\n",
        "#so in order to minimize the prediction affection by outliers we will use only the models which are not-sensitive to outliers\n",
        "#relu function\n",
        "# KNN\n",
        "#SVM\n",
        "#isolation Forest"
      ],
      "metadata": {
        "id": "-0l-4BVv-7x_"
      },
      "execution_count": null,
      "outputs": []
    },
    {
      "cell_type": "code",
      "source": [
        "from sklearn.preprocessing import StandardScaler     # it is observed that the amount column is not in standard scaler so converting the amount column in scaler format\n",
        "\n",
        "scaler = StandardScaler()\n",
        "df['Amount'] = scaler.fit_transform(df[['Amount']])\n",
        "\n",
        "\n"
      ],
      "metadata": {
        "id": "OmAkNya_CTGu"
      },
      "execution_count": null,
      "outputs": []
    },
    {
      "cell_type": "code",
      "source": [
        "df"
      ],
      "metadata": {
        "colab": {
          "base_uri": "https://localhost:8080/",
          "height": 443
        },
        "id": "6c29A1oCENsx",
        "outputId": "9325c28b-8f11-4283-8ecd-1fcc7401077f"
      },
      "execution_count": null,
      "outputs": [
        {
          "output_type": "execute_result",
          "data": {
            "text/plain": [
              "            id        V1        V2        V3        V4        V5        V6  \\\n",
              "0            0 -0.260648 -0.469648  2.496266 -0.083724  0.129681  0.732898   \n",
              "1            1  0.985100 -0.356045  0.558056 -0.429654  0.277140  0.428605   \n",
              "2            2 -0.260272 -0.949385  1.728538 -0.457986  0.074062  1.419481   \n",
              "3            3 -0.152152 -0.508959  1.746840 -1.090178  0.249486  1.143312   \n",
              "4            4 -0.206820 -0.165280  1.527053 -0.448293  0.106125  0.530549   \n",
              "...        ...       ...       ...       ...       ...       ...       ...   \n",
              "568625  568625 -0.833437  0.061886 -0.899794  0.904227 -1.002401  0.481454   \n",
              "568626  568626 -0.670459 -0.202896 -0.068129 -0.267328 -0.133660  0.237148   \n",
              "568627  568627 -0.311997 -0.004095  0.137526 -0.035893 -0.042291  0.121098   \n",
              "568628  568628  0.636871 -0.516970 -0.300889 -0.144480  0.131042 -0.294148   \n",
              "568629  568629 -0.795144  0.433236 -0.649140  0.374732 -0.244976 -0.603493   \n",
              "\n",
              "              V7        V8        V9  ...       V21       V22       V23  \\\n",
              "0       0.519014 -0.130006  0.727159  ... -0.110552  0.217606 -0.134794   \n",
              "1       0.406466 -0.133118  0.347452  ... -0.194936 -0.605761  0.079469   \n",
              "2       0.743511 -0.095576 -0.261297  ... -0.005020  0.702906  0.945045   \n",
              "3       0.518269 -0.065130 -0.205698  ... -0.146927 -0.038212 -0.214048   \n",
              "4       0.658849 -0.212660  1.049921  ... -0.106984  0.729727 -0.161666   \n",
              "...          ...       ...       ...  ...       ...       ...       ...   \n",
              "568625 -0.370393  0.189694 -0.938153  ...  0.167503  0.419731  1.288249   \n",
              "568626 -0.016935 -0.147733  0.483894  ...  0.031874  0.388161 -0.154257   \n",
              "568627 -0.070958 -0.019997 -0.122048  ...  0.140788  0.536523 -0.211100   \n",
              "568628  0.580568 -0.207723  0.893527  ... -0.060381 -0.195609 -0.175488   \n",
              "568629 -0.347613 -0.340814  0.253971  ...  0.534853 -0.291514  0.157303   \n",
              "\n",
              "             V24       V25       V26       V27       V28    Amount  Class  \n",
              "0       0.165959  0.126280 -0.434824 -0.081230 -0.151045  0.858447      0  \n",
              "1      -0.577395  0.190090  0.296503 -0.248052 -0.064512 -0.796369      0  \n",
              "2      -1.154666 -0.605564 -0.312895 -0.300258 -0.244718 -1.377011      0  \n",
              "3      -1.893131  1.003963 -0.515950 -0.165316  0.048424 -0.962119      0  \n",
              "4       0.312561 -0.414116  1.071126  0.023712  0.419117  0.323285      0  \n",
              "...          ...       ...       ...       ...       ...       ...    ...  \n",
              "568625 -0.900861  0.560661 -0.006018  3.308968  0.081564 -1.105231      1  \n",
              "568626 -0.846452 -0.153443  1.961398 -1.528642  1.704306 -1.067766      1  \n",
              "568627 -0.448909  0.540073 -0.755836 -0.487540 -0.268741  1.666401      1  \n",
              "568628 -0.554643 -0.099669 -1.434931 -0.159269 -0.076251 -0.271853      1  \n",
              "568629  0.931030 -0.349423 -1.090974 -1.575113  0.722936  1.365962      1  \n",
              "\n",
              "[568630 rows x 31 columns]"
            ],
            "text/html": [
              "\n",
              "  <div id=\"df-693802b4-34d0-498c-82e6-5ce73d94bf65\" class=\"colab-df-container\">\n",
              "    <div>\n",
              "<style scoped>\n",
              "    .dataframe tbody tr th:only-of-type {\n",
              "        vertical-align: middle;\n",
              "    }\n",
              "\n",
              "    .dataframe tbody tr th {\n",
              "        vertical-align: top;\n",
              "    }\n",
              "\n",
              "    .dataframe thead th {\n",
              "        text-align: right;\n",
              "    }\n",
              "</style>\n",
              "<table border=\"1\" class=\"dataframe\">\n",
              "  <thead>\n",
              "    <tr style=\"text-align: right;\">\n",
              "      <th></th>\n",
              "      <th>id</th>\n",
              "      <th>V1</th>\n",
              "      <th>V2</th>\n",
              "      <th>V3</th>\n",
              "      <th>V4</th>\n",
              "      <th>V5</th>\n",
              "      <th>V6</th>\n",
              "      <th>V7</th>\n",
              "      <th>V8</th>\n",
              "      <th>V9</th>\n",
              "      <th>...</th>\n",
              "      <th>V21</th>\n",
              "      <th>V22</th>\n",
              "      <th>V23</th>\n",
              "      <th>V24</th>\n",
              "      <th>V25</th>\n",
              "      <th>V26</th>\n",
              "      <th>V27</th>\n",
              "      <th>V28</th>\n",
              "      <th>Amount</th>\n",
              "      <th>Class</th>\n",
              "    </tr>\n",
              "  </thead>\n",
              "  <tbody>\n",
              "    <tr>\n",
              "      <th>0</th>\n",
              "      <td>0</td>\n",
              "      <td>-0.260648</td>\n",
              "      <td>-0.469648</td>\n",
              "      <td>2.496266</td>\n",
              "      <td>-0.083724</td>\n",
              "      <td>0.129681</td>\n",
              "      <td>0.732898</td>\n",
              "      <td>0.519014</td>\n",
              "      <td>-0.130006</td>\n",
              "      <td>0.727159</td>\n",
              "      <td>...</td>\n",
              "      <td>-0.110552</td>\n",
              "      <td>0.217606</td>\n",
              "      <td>-0.134794</td>\n",
              "      <td>0.165959</td>\n",
              "      <td>0.126280</td>\n",
              "      <td>-0.434824</td>\n",
              "      <td>-0.081230</td>\n",
              "      <td>-0.151045</td>\n",
              "      <td>0.858447</td>\n",
              "      <td>0</td>\n",
              "    </tr>\n",
              "    <tr>\n",
              "      <th>1</th>\n",
              "      <td>1</td>\n",
              "      <td>0.985100</td>\n",
              "      <td>-0.356045</td>\n",
              "      <td>0.558056</td>\n",
              "      <td>-0.429654</td>\n",
              "      <td>0.277140</td>\n",
              "      <td>0.428605</td>\n",
              "      <td>0.406466</td>\n",
              "      <td>-0.133118</td>\n",
              "      <td>0.347452</td>\n",
              "      <td>...</td>\n",
              "      <td>-0.194936</td>\n",
              "      <td>-0.605761</td>\n",
              "      <td>0.079469</td>\n",
              "      <td>-0.577395</td>\n",
              "      <td>0.190090</td>\n",
              "      <td>0.296503</td>\n",
              "      <td>-0.248052</td>\n",
              "      <td>-0.064512</td>\n",
              "      <td>-0.796369</td>\n",
              "      <td>0</td>\n",
              "    </tr>\n",
              "    <tr>\n",
              "      <th>2</th>\n",
              "      <td>2</td>\n",
              "      <td>-0.260272</td>\n",
              "      <td>-0.949385</td>\n",
              "      <td>1.728538</td>\n",
              "      <td>-0.457986</td>\n",
              "      <td>0.074062</td>\n",
              "      <td>1.419481</td>\n",
              "      <td>0.743511</td>\n",
              "      <td>-0.095576</td>\n",
              "      <td>-0.261297</td>\n",
              "      <td>...</td>\n",
              "      <td>-0.005020</td>\n",
              "      <td>0.702906</td>\n",
              "      <td>0.945045</td>\n",
              "      <td>-1.154666</td>\n",
              "      <td>-0.605564</td>\n",
              "      <td>-0.312895</td>\n",
              "      <td>-0.300258</td>\n",
              "      <td>-0.244718</td>\n",
              "      <td>-1.377011</td>\n",
              "      <td>0</td>\n",
              "    </tr>\n",
              "    <tr>\n",
              "      <th>3</th>\n",
              "      <td>3</td>\n",
              "      <td>-0.152152</td>\n",
              "      <td>-0.508959</td>\n",
              "      <td>1.746840</td>\n",
              "      <td>-1.090178</td>\n",
              "      <td>0.249486</td>\n",
              "      <td>1.143312</td>\n",
              "      <td>0.518269</td>\n",
              "      <td>-0.065130</td>\n",
              "      <td>-0.205698</td>\n",
              "      <td>...</td>\n",
              "      <td>-0.146927</td>\n",
              "      <td>-0.038212</td>\n",
              "      <td>-0.214048</td>\n",
              "      <td>-1.893131</td>\n",
              "      <td>1.003963</td>\n",
              "      <td>-0.515950</td>\n",
              "      <td>-0.165316</td>\n",
              "      <td>0.048424</td>\n",
              "      <td>-0.962119</td>\n",
              "      <td>0</td>\n",
              "    </tr>\n",
              "    <tr>\n",
              "      <th>4</th>\n",
              "      <td>4</td>\n",
              "      <td>-0.206820</td>\n",
              "      <td>-0.165280</td>\n",
              "      <td>1.527053</td>\n",
              "      <td>-0.448293</td>\n",
              "      <td>0.106125</td>\n",
              "      <td>0.530549</td>\n",
              "      <td>0.658849</td>\n",
              "      <td>-0.212660</td>\n",
              "      <td>1.049921</td>\n",
              "      <td>...</td>\n",
              "      <td>-0.106984</td>\n",
              "      <td>0.729727</td>\n",
              "      <td>-0.161666</td>\n",
              "      <td>0.312561</td>\n",
              "      <td>-0.414116</td>\n",
              "      <td>1.071126</td>\n",
              "      <td>0.023712</td>\n",
              "      <td>0.419117</td>\n",
              "      <td>0.323285</td>\n",
              "      <td>0</td>\n",
              "    </tr>\n",
              "    <tr>\n",
              "      <th>...</th>\n",
              "      <td>...</td>\n",
              "      <td>...</td>\n",
              "      <td>...</td>\n",
              "      <td>...</td>\n",
              "      <td>...</td>\n",
              "      <td>...</td>\n",
              "      <td>...</td>\n",
              "      <td>...</td>\n",
              "      <td>...</td>\n",
              "      <td>...</td>\n",
              "      <td>...</td>\n",
              "      <td>...</td>\n",
              "      <td>...</td>\n",
              "      <td>...</td>\n",
              "      <td>...</td>\n",
              "      <td>...</td>\n",
              "      <td>...</td>\n",
              "      <td>...</td>\n",
              "      <td>...</td>\n",
              "      <td>...</td>\n",
              "      <td>...</td>\n",
              "    </tr>\n",
              "    <tr>\n",
              "      <th>568625</th>\n",
              "      <td>568625</td>\n",
              "      <td>-0.833437</td>\n",
              "      <td>0.061886</td>\n",
              "      <td>-0.899794</td>\n",
              "      <td>0.904227</td>\n",
              "      <td>-1.002401</td>\n",
              "      <td>0.481454</td>\n",
              "      <td>-0.370393</td>\n",
              "      <td>0.189694</td>\n",
              "      <td>-0.938153</td>\n",
              "      <td>...</td>\n",
              "      <td>0.167503</td>\n",
              "      <td>0.419731</td>\n",
              "      <td>1.288249</td>\n",
              "      <td>-0.900861</td>\n",
              "      <td>0.560661</td>\n",
              "      <td>-0.006018</td>\n",
              "      <td>3.308968</td>\n",
              "      <td>0.081564</td>\n",
              "      <td>-1.105231</td>\n",
              "      <td>1</td>\n",
              "    </tr>\n",
              "    <tr>\n",
              "      <th>568626</th>\n",
              "      <td>568626</td>\n",
              "      <td>-0.670459</td>\n",
              "      <td>-0.202896</td>\n",
              "      <td>-0.068129</td>\n",
              "      <td>-0.267328</td>\n",
              "      <td>-0.133660</td>\n",
              "      <td>0.237148</td>\n",
              "      <td>-0.016935</td>\n",
              "      <td>-0.147733</td>\n",
              "      <td>0.483894</td>\n",
              "      <td>...</td>\n",
              "      <td>0.031874</td>\n",
              "      <td>0.388161</td>\n",
              "      <td>-0.154257</td>\n",
              "      <td>-0.846452</td>\n",
              "      <td>-0.153443</td>\n",
              "      <td>1.961398</td>\n",
              "      <td>-1.528642</td>\n",
              "      <td>1.704306</td>\n",
              "      <td>-1.067766</td>\n",
              "      <td>1</td>\n",
              "    </tr>\n",
              "    <tr>\n",
              "      <th>568627</th>\n",
              "      <td>568627</td>\n",
              "      <td>-0.311997</td>\n",
              "      <td>-0.004095</td>\n",
              "      <td>0.137526</td>\n",
              "      <td>-0.035893</td>\n",
              "      <td>-0.042291</td>\n",
              "      <td>0.121098</td>\n",
              "      <td>-0.070958</td>\n",
              "      <td>-0.019997</td>\n",
              "      <td>-0.122048</td>\n",
              "      <td>...</td>\n",
              "      <td>0.140788</td>\n",
              "      <td>0.536523</td>\n",
              "      <td>-0.211100</td>\n",
              "      <td>-0.448909</td>\n",
              "      <td>0.540073</td>\n",
              "      <td>-0.755836</td>\n",
              "      <td>-0.487540</td>\n",
              "      <td>-0.268741</td>\n",
              "      <td>1.666401</td>\n",
              "      <td>1</td>\n",
              "    </tr>\n",
              "    <tr>\n",
              "      <th>568628</th>\n",
              "      <td>568628</td>\n",
              "      <td>0.636871</td>\n",
              "      <td>-0.516970</td>\n",
              "      <td>-0.300889</td>\n",
              "      <td>-0.144480</td>\n",
              "      <td>0.131042</td>\n",
              "      <td>-0.294148</td>\n",
              "      <td>0.580568</td>\n",
              "      <td>-0.207723</td>\n",
              "      <td>0.893527</td>\n",
              "      <td>...</td>\n",
              "      <td>-0.060381</td>\n",
              "      <td>-0.195609</td>\n",
              "      <td>-0.175488</td>\n",
              "      <td>-0.554643</td>\n",
              "      <td>-0.099669</td>\n",
              "      <td>-1.434931</td>\n",
              "      <td>-0.159269</td>\n",
              "      <td>-0.076251</td>\n",
              "      <td>-0.271853</td>\n",
              "      <td>1</td>\n",
              "    </tr>\n",
              "    <tr>\n",
              "      <th>568629</th>\n",
              "      <td>568629</td>\n",
              "      <td>-0.795144</td>\n",
              "      <td>0.433236</td>\n",
              "      <td>-0.649140</td>\n",
              "      <td>0.374732</td>\n",
              "      <td>-0.244976</td>\n",
              "      <td>-0.603493</td>\n",
              "      <td>-0.347613</td>\n",
              "      <td>-0.340814</td>\n",
              "      <td>0.253971</td>\n",
              "      <td>...</td>\n",
              "      <td>0.534853</td>\n",
              "      <td>-0.291514</td>\n",
              "      <td>0.157303</td>\n",
              "      <td>0.931030</td>\n",
              "      <td>-0.349423</td>\n",
              "      <td>-1.090974</td>\n",
              "      <td>-1.575113</td>\n",
              "      <td>0.722936</td>\n",
              "      <td>1.365962</td>\n",
              "      <td>1</td>\n",
              "    </tr>\n",
              "  </tbody>\n",
              "</table>\n",
              "<p>568630 rows × 31 columns</p>\n",
              "</div>\n",
              "    <div class=\"colab-df-buttons\">\n",
              "\n",
              "  <div class=\"colab-df-container\">\n",
              "    <button class=\"colab-df-convert\" onclick=\"convertToInteractive('df-693802b4-34d0-498c-82e6-5ce73d94bf65')\"\n",
              "            title=\"Convert this dataframe to an interactive table.\"\n",
              "            style=\"display:none;\">\n",
              "\n",
              "  <svg xmlns=\"http://www.w3.org/2000/svg\" height=\"24px\" viewBox=\"0 -960 960 960\">\n",
              "    <path d=\"M120-120v-720h720v720H120Zm60-500h600v-160H180v160Zm220 220h160v-160H400v160Zm0 220h160v-160H400v160ZM180-400h160v-160H180v160Zm440 0h160v-160H620v160ZM180-180h160v-160H180v160Zm440 0h160v-160H620v160Z\"/>\n",
              "  </svg>\n",
              "    </button>\n",
              "\n",
              "  <style>\n",
              "    .colab-df-container {\n",
              "      display:flex;\n",
              "      gap: 12px;\n",
              "    }\n",
              "\n",
              "    .colab-df-convert {\n",
              "      background-color: #E8F0FE;\n",
              "      border: none;\n",
              "      border-radius: 50%;\n",
              "      cursor: pointer;\n",
              "      display: none;\n",
              "      fill: #1967D2;\n",
              "      height: 32px;\n",
              "      padding: 0 0 0 0;\n",
              "      width: 32px;\n",
              "    }\n",
              "\n",
              "    .colab-df-convert:hover {\n",
              "      background-color: #E2EBFA;\n",
              "      box-shadow: 0px 1px 2px rgba(60, 64, 67, 0.3), 0px 1px 3px 1px rgba(60, 64, 67, 0.15);\n",
              "      fill: #174EA6;\n",
              "    }\n",
              "\n",
              "    .colab-df-buttons div {\n",
              "      margin-bottom: 4px;\n",
              "    }\n",
              "\n",
              "    [theme=dark] .colab-df-convert {\n",
              "      background-color: #3B4455;\n",
              "      fill: #D2E3FC;\n",
              "    }\n",
              "\n",
              "    [theme=dark] .colab-df-convert:hover {\n",
              "      background-color: #434B5C;\n",
              "      box-shadow: 0px 1px 3px 1px rgba(0, 0, 0, 0.15);\n",
              "      filter: drop-shadow(0px 1px 2px rgba(0, 0, 0, 0.3));\n",
              "      fill: #FFFFFF;\n",
              "    }\n",
              "  </style>\n",
              "\n",
              "    <script>\n",
              "      const buttonEl =\n",
              "        document.querySelector('#df-693802b4-34d0-498c-82e6-5ce73d94bf65 button.colab-df-convert');\n",
              "      buttonEl.style.display =\n",
              "        google.colab.kernel.accessAllowed ? 'block' : 'none';\n",
              "\n",
              "      async function convertToInteractive(key) {\n",
              "        const element = document.querySelector('#df-693802b4-34d0-498c-82e6-5ce73d94bf65');\n",
              "        const dataTable =\n",
              "          await google.colab.kernel.invokeFunction('convertToInteractive',\n",
              "                                                    [key], {});\n",
              "        if (!dataTable) return;\n",
              "\n",
              "        const docLinkHtml = 'Like what you see? Visit the ' +\n",
              "          '<a target=\"_blank\" href=https://colab.research.google.com/notebooks/data_table.ipynb>data table notebook</a>'\n",
              "          + ' to learn more about interactive tables.';\n",
              "        element.innerHTML = '';\n",
              "        dataTable['output_type'] = 'display_data';\n",
              "        await google.colab.output.renderOutput(dataTable, element);\n",
              "        const docLink = document.createElement('div');\n",
              "        docLink.innerHTML = docLinkHtml;\n",
              "        element.appendChild(docLink);\n",
              "      }\n",
              "    </script>\n",
              "  </div>\n",
              "\n",
              "\n",
              "<div id=\"df-1e10754c-41a3-4d0d-ad7c-0191d8f2ba17\">\n",
              "  <button class=\"colab-df-quickchart\" onclick=\"quickchart('df-1e10754c-41a3-4d0d-ad7c-0191d8f2ba17')\"\n",
              "            title=\"Suggest charts\"\n",
              "            style=\"display:none;\">\n",
              "\n",
              "<svg xmlns=\"http://www.w3.org/2000/svg\" height=\"24px\"viewBox=\"0 0 24 24\"\n",
              "     width=\"24px\">\n",
              "    <g>\n",
              "        <path d=\"M19 3H5c-1.1 0-2 .9-2 2v14c0 1.1.9 2 2 2h14c1.1 0 2-.9 2-2V5c0-1.1-.9-2-2-2zM9 17H7v-7h2v7zm4 0h-2V7h2v10zm4 0h-2v-4h2v4z\"/>\n",
              "    </g>\n",
              "</svg>\n",
              "  </button>\n",
              "\n",
              "<style>\n",
              "  .colab-df-quickchart {\n",
              "      --bg-color: #E8F0FE;\n",
              "      --fill-color: #1967D2;\n",
              "      --hover-bg-color: #E2EBFA;\n",
              "      --hover-fill-color: #174EA6;\n",
              "      --disabled-fill-color: #AAA;\n",
              "      --disabled-bg-color: #DDD;\n",
              "  }\n",
              "\n",
              "  [theme=dark] .colab-df-quickchart {\n",
              "      --bg-color: #3B4455;\n",
              "      --fill-color: #D2E3FC;\n",
              "      --hover-bg-color: #434B5C;\n",
              "      --hover-fill-color: #FFFFFF;\n",
              "      --disabled-bg-color: #3B4455;\n",
              "      --disabled-fill-color: #666;\n",
              "  }\n",
              "\n",
              "  .colab-df-quickchart {\n",
              "    background-color: var(--bg-color);\n",
              "    border: none;\n",
              "    border-radius: 50%;\n",
              "    cursor: pointer;\n",
              "    display: none;\n",
              "    fill: var(--fill-color);\n",
              "    height: 32px;\n",
              "    padding: 0;\n",
              "    width: 32px;\n",
              "  }\n",
              "\n",
              "  .colab-df-quickchart:hover {\n",
              "    background-color: var(--hover-bg-color);\n",
              "    box-shadow: 0 1px 2px rgba(60, 64, 67, 0.3), 0 1px 3px 1px rgba(60, 64, 67, 0.15);\n",
              "    fill: var(--button-hover-fill-color);\n",
              "  }\n",
              "\n",
              "  .colab-df-quickchart-complete:disabled,\n",
              "  .colab-df-quickchart-complete:disabled:hover {\n",
              "    background-color: var(--disabled-bg-color);\n",
              "    fill: var(--disabled-fill-color);\n",
              "    box-shadow: none;\n",
              "  }\n",
              "\n",
              "  .colab-df-spinner {\n",
              "    border: 2px solid var(--fill-color);\n",
              "    border-color: transparent;\n",
              "    border-bottom-color: var(--fill-color);\n",
              "    animation:\n",
              "      spin 1s steps(1) infinite;\n",
              "  }\n",
              "\n",
              "  @keyframes spin {\n",
              "    0% {\n",
              "      border-color: transparent;\n",
              "      border-bottom-color: var(--fill-color);\n",
              "      border-left-color: var(--fill-color);\n",
              "    }\n",
              "    20% {\n",
              "      border-color: transparent;\n",
              "      border-left-color: var(--fill-color);\n",
              "      border-top-color: var(--fill-color);\n",
              "    }\n",
              "    30% {\n",
              "      border-color: transparent;\n",
              "      border-left-color: var(--fill-color);\n",
              "      border-top-color: var(--fill-color);\n",
              "      border-right-color: var(--fill-color);\n",
              "    }\n",
              "    40% {\n",
              "      border-color: transparent;\n",
              "      border-right-color: var(--fill-color);\n",
              "      border-top-color: var(--fill-color);\n",
              "    }\n",
              "    60% {\n",
              "      border-color: transparent;\n",
              "      border-right-color: var(--fill-color);\n",
              "    }\n",
              "    80% {\n",
              "      border-color: transparent;\n",
              "      border-right-color: var(--fill-color);\n",
              "      border-bottom-color: var(--fill-color);\n",
              "    }\n",
              "    90% {\n",
              "      border-color: transparent;\n",
              "      border-bottom-color: var(--fill-color);\n",
              "    }\n",
              "  }\n",
              "</style>\n",
              "\n",
              "  <script>\n",
              "    async function quickchart(key) {\n",
              "      const quickchartButtonEl =\n",
              "        document.querySelector('#' + key + ' button');\n",
              "      quickchartButtonEl.disabled = true;  // To prevent multiple clicks.\n",
              "      quickchartButtonEl.classList.add('colab-df-spinner');\n",
              "      try {\n",
              "        const charts = await google.colab.kernel.invokeFunction(\n",
              "            'suggestCharts', [key], {});\n",
              "      } catch (error) {\n",
              "        console.error('Error during call to suggestCharts:', error);\n",
              "      }\n",
              "      quickchartButtonEl.classList.remove('colab-df-spinner');\n",
              "      quickchartButtonEl.classList.add('colab-df-quickchart-complete');\n",
              "    }\n",
              "    (() => {\n",
              "      let quickchartButtonEl =\n",
              "        document.querySelector('#df-1e10754c-41a3-4d0d-ad7c-0191d8f2ba17 button');\n",
              "      quickchartButtonEl.style.display =\n",
              "        google.colab.kernel.accessAllowed ? 'block' : 'none';\n",
              "    })();\n",
              "  </script>\n",
              "</div>\n",
              "\n",
              "  <div id=\"id_16214de4-60f0-42dc-a0fa-7f8c19310e8a\">\n",
              "    <style>\n",
              "      .colab-df-generate {\n",
              "        background-color: #E8F0FE;\n",
              "        border: none;\n",
              "        border-radius: 50%;\n",
              "        cursor: pointer;\n",
              "        display: none;\n",
              "        fill: #1967D2;\n",
              "        height: 32px;\n",
              "        padding: 0 0 0 0;\n",
              "        width: 32px;\n",
              "      }\n",
              "\n",
              "      .colab-df-generate:hover {\n",
              "        background-color: #E2EBFA;\n",
              "        box-shadow: 0px 1px 2px rgba(60, 64, 67, 0.3), 0px 1px 3px 1px rgba(60, 64, 67, 0.15);\n",
              "        fill: #174EA6;\n",
              "      }\n",
              "\n",
              "      [theme=dark] .colab-df-generate {\n",
              "        background-color: #3B4455;\n",
              "        fill: #D2E3FC;\n",
              "      }\n",
              "\n",
              "      [theme=dark] .colab-df-generate:hover {\n",
              "        background-color: #434B5C;\n",
              "        box-shadow: 0px 1px 3px 1px rgba(0, 0, 0, 0.15);\n",
              "        filter: drop-shadow(0px 1px 2px rgba(0, 0, 0, 0.3));\n",
              "        fill: #FFFFFF;\n",
              "      }\n",
              "    </style>\n",
              "    <button class=\"colab-df-generate\" onclick=\"generateWithVariable('df')\"\n",
              "            title=\"Generate code using this dataframe.\"\n",
              "            style=\"display:none;\">\n",
              "\n",
              "  <svg xmlns=\"http://www.w3.org/2000/svg\" height=\"24px\"viewBox=\"0 0 24 24\"\n",
              "       width=\"24px\">\n",
              "    <path d=\"M7,19H8.4L18.45,9,17,7.55,7,17.6ZM5,21V16.75L18.45,3.32a2,2,0,0,1,2.83,0l1.4,1.43a1.91,1.91,0,0,1,.58,1.4,1.91,1.91,0,0,1-.58,1.4L9.25,21ZM18.45,9,17,7.55Zm-12,3A5.31,5.31,0,0,0,4.9,8.1,5.31,5.31,0,0,0,1,6.5,5.31,5.31,0,0,0,4.9,4.9,5.31,5.31,0,0,0,6.5,1,5.31,5.31,0,0,0,8.1,4.9,5.31,5.31,0,0,0,12,6.5,5.46,5.46,0,0,0,6.5,12Z\"/>\n",
              "  </svg>\n",
              "    </button>\n",
              "    <script>\n",
              "      (() => {\n",
              "      const buttonEl =\n",
              "        document.querySelector('#id_16214de4-60f0-42dc-a0fa-7f8c19310e8a button.colab-df-generate');\n",
              "      buttonEl.style.display =\n",
              "        google.colab.kernel.accessAllowed ? 'block' : 'none';\n",
              "\n",
              "      buttonEl.onclick = () => {\n",
              "        google.colab.notebook.generateWithVariable('df');\n",
              "      }\n",
              "      })();\n",
              "    </script>\n",
              "  </div>\n",
              "\n",
              "    </div>\n",
              "  </div>\n"
            ]
          },
          "metadata": {},
          "execution_count": 15
        }
      ]
    },
    {
      "cell_type": "code",
      "source": [
        "plt.figure(figsize=(10,10))\n",
        "\n",
        "sns.heatmap(df.corr())"
      ],
      "metadata": {
        "colab": {
          "base_uri": "https://localhost:8080/",
          "height": 893
        },
        "id": "5F2g7fOZEYk8",
        "outputId": "96504998-56c8-4ac9-f9d2-b7af6204f6ad"
      },
      "execution_count": null,
      "outputs": [
        {
          "output_type": "execute_result",
          "data": {
            "text/plain": [
              "<Axes: >"
            ]
          },
          "metadata": {},
          "execution_count": 16
        },
        {
          "output_type": "display_data",
          "data": {
            "text/plain": [
              "<Figure size 1000x1000 with 2 Axes>"
            ],
            "image/png": "[encoded data removed]"
          },
          "metadata": {}
        }
      ]
    },
    {
      "cell_type": "code",
      "source": [
        "# it is seen that the id column is of no use so we will remove it while making model"
      ],
      "metadata": {
        "id": "wk-7ZmKFFMu7"
      },
      "execution_count": null,
      "outputs": []
    },
    {
      "cell_type": "code",
      "source": [
        "Q1 = df.quantile(0.25)\n",
        "Q3 = df.quantile(0.75)\n",
        "IQR = Q3 - Q1\n",
        "\n",
        "#\n",
        "outliers = ((df < (Q1 - 1.5 * IQR)) | (df > (Q3 + 1.5 * IQR))).sum()\n",
        "print(outliers)"
      ],
      "metadata": {
        "colab": {
          "base_uri": "https://localhost:8080/"
        },
        "id": "maH-W7M7FsTF",
        "outputId": "599bb1b0-fc3f-47ae-d98b-d7d8934da8d1"
      },
      "execution_count": null,
      "outputs": [
        {
          "output_type": "stream",
          "name": "stdout",
          "text": [
            "id            0\n",
            "V1           30\n",
            "V2        43620\n",
            "V3         4300\n",
            "V4         2766\n",
            "V5        71015\n",
            "V6        48854\n",
            "V7        55997\n",
            "V8        93856\n",
            "V9        18939\n",
            "V10       10710\n",
            "V11         709\n",
            "V12         700\n",
            "V13        4197\n",
            "V14        1088\n",
            "V15        6780\n",
            "V16        4546\n",
            "V17       14890\n",
            "V18       16676\n",
            "V19       19519\n",
            "V20       65708\n",
            "V21       57138\n",
            "V22       13706\n",
            "V23       72056\n",
            "V24        2029\n",
            "V25       28089\n",
            "V26        6554\n",
            "V27       82235\n",
            "V28       70242\n",
            "Amount        0\n",
            "Class         0\n",
            "dtype: int64\n"
          ]
        }
      ]
    },
    {
      "cell_type": "code",
      "source": [
        "from scipy.stats import zscore  # checking the outliers based on z score with a threshold of +-3\n",
        "\n",
        "\n",
        "z_scores = zscore(df)\n",
        "\n",
        "# Count the number of outliers in each column\n",
        "outliers = (abs(z_scores) > 3).sum()\n",
        "print(outliers)"
      ],
      "metadata": {
        "colab": {
          "base_uri": "https://localhost:8080/"
        },
        "id": "mur56rMfKdM6",
        "outputId": "558987b3-e14f-4165-a121-e79b75b45c63"
      },
      "execution_count": null,
      "outputs": [
        {
          "output_type": "stream",
          "name": "stdout",
          "text": [
            "id            0\n",
            "V1            4\n",
            "V2        12203\n",
            "V3         1274\n",
            "V4         1296\n",
            "V5         6646\n",
            "V6         5888\n",
            "V7         7140\n",
            "V8        17459\n",
            "V9         4644\n",
            "V10        3636\n",
            "V11         467\n",
            "V12         823\n",
            "V13        1928\n",
            "V14        1372\n",
            "V15        2110\n",
            "V16        2205\n",
            "V17        6069\n",
            "V18        4086\n",
            "V19        3530\n",
            "V20       10646\n",
            "V21       10165\n",
            "V22        9652\n",
            "V23        9656\n",
            "V24         513\n",
            "V25        7758\n",
            "V26        2871\n",
            "V27       13337\n",
            "V28       12590\n",
            "Amount        0\n",
            "Class         0\n",
            "dtype: int64\n"
          ]
        }
      ]
    },
    {
      "cell_type": "code",
      "source": [
        "\n"
      ],
      "metadata": {
        "id": "_M-zqPIAL-1t"
      },
      "execution_count": null,
      "outputs": []
    },
    {
      "cell_type": "code",
      "source": [
        "#checkin the highly related columns\n",
        "corr_matrix = df.corr()\n",
        "corelate=corr_matrix[\"Class\"].sort_values(ascending=False)\n",
        "corelate"
      ],
      "metadata": {
        "colab": {
          "base_uri": "https://localhost:8080/"
        },
        "id": "Pn7W2A9qOkwA",
        "outputId": "fd1f2fcd-8fe5-4588-c815-c553e9246bf2"
      },
      "execution_count": null,
      "outputs": [
        {
          "output_type": "execute_result",
          "data": {
            "text/plain": [
              "Class     1.000000\n",
              "id        0.864283\n",
              "V4        0.735981\n",
              "V11       0.724278\n",
              "V2        0.491878\n",
              "V19       0.244081\n",
              "V27       0.214002\n",
              "V20       0.179851\n",
              "V8        0.144294\n",
              "V21       0.109640\n",
              "V28       0.102024\n",
              "V26       0.071052\n",
              "V25       0.061847\n",
              "V22       0.014098\n",
              "V23       0.010255\n",
              "Amount    0.002261\n",
              "V15      -0.037948\n",
              "V13      -0.071105\n",
              "V24      -0.130107\n",
              "V5       -0.338639\n",
              "V18      -0.410091\n",
              "V6       -0.435088\n",
              "V17      -0.476377\n",
              "V7       -0.491234\n",
              "V1       -0.505761\n",
              "V16      -0.573511\n",
              "V9       -0.585522\n",
              "V10      -0.673665\n",
              "V3       -0.682095\n",
              "V12      -0.768579\n",
              "V14      -0.805669\n",
              "Name: Class, dtype: float64"
            ]
          },
          "metadata": {},
          "execution_count": 20
        }
      ]
    },
    {
      "cell_type": "code",
      "source": [
        "# training a model based on the feature"
      ],
      "metadata": {
        "id": "rg7BACgPN9Pp"
      },
      "execution_count": null,
      "outputs": []
    },
    {
      "cell_type": "code",
      "source": [
        "import pandas as pd\n",
        "\n",
        "# Assuming df is your DataFrame and 'Class' is the target variable\n",
        "target_variable = 'Class'\n",
        "correlation_threshold = 0.0 # Adjust the threshold as needed\n",
        "\n",
        "# Calculate the correlation matrix\n",
        "corr_matrix = df.corr()\n",
        "\n",
        "# Select columns with correlation above the threshold\n",
        "selected_columns = corr_matrix[abs(corr_matrix[target_variable]) > correlation_threshold].index.tolist()\n",
        "\n",
        "print(\"Selected columns based on correlation threshold:\", selected_columns)"
      ],
      "metadata": {
        "colab": {
          "base_uri": "https://localhost:8080/"
        },
        "id": "8BRI1XYxRFC1",
        "outputId": "42f62242-e63e-43b2-9a7c-3ca0428d3363"
      },
      "execution_count": null,
      "outputs": [
        {
          "output_type": "stream",
          "name": "stdout",
          "text": [
            "Selected columns based on correlation threshold: ['id', 'V1', 'V2', 'V3', 'V4', 'V5', 'V6', 'V7', 'V8', 'V9', 'V10', 'V11', 'V12', 'V13', 'V14', 'V15', 'V16', 'V17', 'V18', 'V19', 'V20', 'V21', 'V22', 'V23', 'V24', 'V25', 'V26', 'V27', 'V28', 'Amount', 'Class']\n"
          ]
        }
      ]
    },
    {
      "cell_type": "code",
      "source": [
        "from sklearn.model_selection import train_test_split\n",
        "# Assuming selected_columns is a list of column names\n",
        "columns_to_exclude = ['id', 'Class']\n",
        "\n",
        "# Create x by excluding specified columns\n",
        "x = df[selected_columns].drop(columns=columns_to_exclude, errors='ignore')\n",
        "y=df['Class']\n",
        "x_train, x_test, y_train, y_test = train_test_split(x,y, test_size=0.2, random_state=42)\n"
      ],
      "metadata": {
        "id": "X5kzrYjiSaqL"
      },
      "execution_count": null,
      "outputs": []
    },
    {
      "cell_type": "code",
      "source": [
        "# training the model:\n",
        "# Logistic model\n",
        "from sklearn.linear_model import LogisticRegression\n",
        "model = LogisticRegression()\n",
        "model.fit(x_train,y_train)"
      ],
      "metadata": {
        "colab": {
          "base_uri": "https://localhost:8080/",
          "height": 74
        },
        "id": "mu76b18bReyA",
        "outputId": "c4ff27ed-b996-4f6b-fe58-1c0774bb72f9"
      },
      "execution_count": null,
      "outputs": [
        {
          "output_type": "execute_result",
          "data": {
            "text/plain": [
              "LogisticRegression()"
            ],
            "text/html": [
              "<style>#sk-container-id-1 {color: black;background-color: white;}#sk-container-id-1 pre{padding: 0;}#sk-container-id-1 div.sk-toggleable {background-color: white;}#sk-container-id-1 label.sk-toggleable__label {cursor: pointer;display: block;width: 100%;margin-bottom: 0;padding: 0.3em;box-sizing: border-box;text-align: center;}#sk-container-id-1 label.sk-toggleable__label-arrow:before {content: \"▸\";float: left;margin-right: 0.25em;color: #696969;}#sk-container-id-1 label.sk-toggleable__label-arrow:hover:before {color: black;}#sk-container-id-1 div.sk-estimator:hover label.sk-toggleable__label-arrow:before {color: black;}#sk-container-id-1 div.sk-toggleable__content {max-height: 0;max-width: 0;overflow: hidden;text-align: left;background-color: #f0f8ff;}#sk-container-id-1 div.sk-toggleable__content pre {margin: 0.2em;color: black;border-radius: 0.25em;background-color: #f0f8ff;}#sk-container-id-1 input.sk-toggleable__control:checked~div.sk-toggleable__content {max-height: 200px;max-width: 100%;overflow: auto;}#sk-container-id-1 input.sk-toggleable__control:checked~label.sk-toggleable__label-arrow:before {content: \"▾\";}#sk-container-id-1 div.sk-estimator input.sk-toggleable__control:checked~label.sk-toggleable__label {background-color: #d4ebff;}#sk-container-id-1 div.sk-label input.sk-toggleable__control:checked~label.sk-toggleable__label {background-color: #d4ebff;}#sk-container-id-1 input.sk-hidden--visually {border: 0;clip: rect(1px 1px 1px 1px);clip: rect(1px, 1px, 1px, 1px);height: 1px;margin: -1px;overflow: hidden;padding: 0;position: absolute;width: 1px;}#sk-container-id-1 div.sk-estimator {font-family: monospace;background-color: #f0f8ff;border: 1px dotted black;border-radius: 0.25em;box-sizing: border-box;margin-bottom: 0.5em;}#sk-container-id-1 div.sk-estimator:hover {background-color: #d4ebff;}#sk-container-id-1 div.sk-parallel-item::after {content: \"\";width: 100%;border-bottom: 1px solid gray;flex-grow: 1;}#sk-container-id-1 div.sk-label:hover label.sk-toggleable__label {background-color: #d4ebff;}#sk-container-id-1 div.sk-serial::before {content: \"\";position: absolute;border-left: 1px solid gray;box-sizing: border-box;top: 0;bottom: 0;left: 50%;z-index: 0;}#sk-container-id-1 div.sk-serial {display: flex;flex-direction: column;align-items: center;background-color: white;padding-right: 0.2em;padding-left: 0.2em;position: relative;}#sk-container-id-1 div.sk-item {position: relative;z-index: 1;}#sk-container-id-1 div.sk-parallel {display: flex;align-items: stretch;justify-content: center;background-color: white;position: relative;}#sk-container-id-1 div.sk-item::before, #sk-container-id-1 div.sk-parallel-item::before {content: \"\";position: absolute;border-left: 1px solid gray;box-sizing: border-box;top: 0;bottom: 0;left: 50%;z-index: -1;}#sk-container-id-1 div.sk-parallel-item {display: flex;flex-direction: column;z-index: 1;position: relative;background-color: white;}#sk-container-id-1 div.sk-parallel-item:first-child::after {align-self: flex-end;width: 50%;}#sk-container-id-1 div.sk-parallel-item:last-child::after {align-self: flex-start;width: 50%;}#sk-container-id-1 div.sk-parallel-item:only-child::after {width: 0;}#sk-container-id-1 div.sk-dashed-wrapped {border: 1px dashed gray;margin: 0 0.4em 0.5em 0.4em;box-sizing: border-box;padding-bottom: 0.4em;background-color: white;}#sk-container-id-1 div.sk-label label {font-family: monospace;font-weight: bold;display: inline-block;line-height: 1.2em;}#sk-container-id-1 div.sk-label-container {text-align: center;}#sk-container-id-1 div.sk-container {/* jupyter's `normalize.less` sets `[hidden] { display: none; }` but bootstrap.min.css set `[hidden] { display: none !important; }` so we also need the `!important` here to be able to override the default hidden behavior on the sphinx rendered scikit-learn.org. See: https://github.com/scikit-learn/scikit-learn/issues/21755 */display: inline-block !important;position: relative;}#sk-container-id-1 div.sk-text-repr-fallback {display: none;}</style><div id=\"sk-container-id-1\" class=\"sk-top-container\"><div class=\"sk-text-repr-fallback\"><pre>LogisticRegression()</pre><b>In a Jupyter environment, please rerun this cell to show the HTML representation or trust the notebook. <br />On GitHub, the HTML representation is unable to render, please try loading this page with nbviewer.org.</b></div><div class=\"sk-container\" hidden><div class=\"sk-item\"><div class=\"sk-estimator sk-toggleable\"><input class=\"sk-toggleable__control sk-hidden--visually\" id=\"sk-estimator-id-1\" type=\"checkbox\" checked><label for=\"sk-estimator-id-1\" class=\"sk-toggleable__label sk-toggleable__label-arrow\">LogisticRegression</label><div class=\"sk-toggleable__content\"><pre>LogisticRegression()</pre></div></div></div></div></div>"
            ]
          },
          "metadata": {},
          "execution_count": 24
        }
      ]
    },
    {
      "cell_type": "code",
      "source": [
        "y_pred=model.predict(x_test)"
      ],
      "metadata": {
        "id": "tmMjixT1XWI0"
      },
      "execution_count": null,
      "outputs": []
    },
    {
      "cell_type": "code",
      "source": [
        "from sklearn.metrics import accuracy_score\n",
        "accuracy_score(y_test,y_pred)"
      ],
      "metadata": {
        "colab": {
          "base_uri": "https://localhost:8080/"
        },
        "id": "9bU5e58AXdhD",
        "outputId": "cde82816-9dde-4cc3-b1b1-e4397ceb121d"
      },
      "execution_count": null,
      "outputs": [
        {
          "output_type": "execute_result",
          "data": {
            "text/plain": [
              "0.9652761901412166"
            ]
          },
          "metadata": {},
          "execution_count": 26
        }
      ]
    },
    {
      "cell_type": "code",
      "source": [
        "from sklearn.metrics import classification_report\n",
        "print(classification_report(y_test, y_pred))"
      ],
      "metadata": {
        "colab": {
          "base_uri": "https://localhost:8080/"
        },
        "id": "QtEvGcpii3Bv",
        "outputId": "3238853d-1c52-4cd1-a6be-9af838b35c75"
      },
      "execution_count": null,
      "outputs": [
        {
          "output_type": "stream",
          "name": "stdout",
          "text": [
            "              precision    recall  f1-score   support\n",
            "\n",
            "           0       0.95      0.98      0.97     56750\n",
            "           1       0.98      0.95      0.96     56976\n",
            "\n",
            "    accuracy                           0.97    113726\n",
            "   macro avg       0.97      0.97      0.97    113726\n",
            "weighted avg       0.97      0.97      0.97    113726\n",
            "\n"
          ]
        }
      ]
    },
    {
      "cell_type": "code",
      "source": [
        "# selecting Logistic regression considering another features having more than 0.5 correlation\n",
        "import pandas as pd\n",
        "\n",
        "# Assuming df is your DataFrame and 'Class' is the target variable\n",
        "target_variable = 'Class'\n",
        "correlation_threshold = 0.5 # Adjust the threshold as needed\n",
        "\n",
        "# Calculate the correlation matrix\n",
        "corr_matrix = df.corr()\n",
        "\n",
        "# Select columns with correlation above the threshold\n",
        "selected_columns = corr_matrix[abs(corr_matrix[target_variable]) > correlation_threshold].index.tolist()\n",
        "\n",
        "print(\"Selected columns based on correlation threshold:\", selected_columns)\n",
        "\n",
        "from sklearn.model_selection import train_test_split\n",
        "# Assuming selected_columns is a list of column names\n",
        "columns_to_exclude = ['id', 'Class']\n",
        "\n",
        "# Create x by excluding specified columns\n",
        "x = df[selected_columns].drop(columns=columns_to_exclude, errors='ignore')\n",
        "y=df['Class']\n",
        "x_train, x_test, y_train, y_test = train_test_split(x,y, test_size=0.2, random_state=42)\n",
        "\n",
        "# training the model:\n",
        "# Logistic model\n",
        "from sklearn.linear_model import LogisticRegression\n",
        "model = LogisticRegression()\n",
        "model.fit(x_train,y_train)\n"
      ],
      "metadata": {
        "colab": {
          "base_uri": "https://localhost:8080/",
          "height": 92
        },
        "id": "yeTwgRUCYu42",
        "outputId": "d36eb26c-eebe-43a6-e3ad-019b2f5501a2"
      },
      "execution_count": null,
      "outputs": [
        {
          "output_type": "stream",
          "name": "stdout",
          "text": [
            "Selected columns based on correlation threshold: ['id', 'V1', 'V3', 'V4', 'V9', 'V10', 'V11', 'V12', 'V14', 'V16', 'Class']\n"
          ]
        },
        {
          "output_type": "execute_result",
          "data": {
            "text/plain": [
              "LogisticRegression()"
            ],
            "text/html": [
              "<style>#sk-container-id-2 {color: black;background-color: white;}#sk-container-id-2 pre{padding: 0;}#sk-container-id-2 div.sk-toggleable {background-color: white;}#sk-container-id-2 label.sk-toggleable__label {cursor: pointer;display: block;width: 100%;margin-bottom: 0;padding: 0.3em;box-sizing: border-box;text-align: center;}#sk-container-id-2 label.sk-toggleable__label-arrow:before {content: \"▸\";float: left;margin-right: 0.25em;color: #696969;}#sk-container-id-2 label.sk-toggleable__label-arrow:hover:before {color: black;}#sk-container-id-2 div.sk-estimator:hover label.sk-toggleable__label-arrow:before {color: black;}#sk-container-id-2 div.sk-toggleable__content {max-height: 0;max-width: 0;overflow: hidden;text-align: left;background-color: #f0f8ff;}#sk-container-id-2 div.sk-toggleable__content pre {margin: 0.2em;color: black;border-radius: 0.25em;background-color: #f0f8ff;}#sk-container-id-2 input.sk-toggleable__control:checked~div.sk-toggleable__content {max-height: 200px;max-width: 100%;overflow: auto;}#sk-container-id-2 input.sk-toggleable__control:checked~label.sk-toggleable__label-arrow:before {content: \"▾\";}#sk-container-id-2 div.sk-estimator input.sk-toggleable__control:checked~label.sk-toggleable__label {background-color: #d4ebff;}#sk-container-id-2 div.sk-label input.sk-toggleable__control:checked~label.sk-toggleable__label {background-color: #d4ebff;}#sk-container-id-2 input.sk-hidden--visually {border: 0;clip: rect(1px 1px 1px 1px);clip: rect(1px, 1px, 1px, 1px);height: 1px;margin: -1px;overflow: hidden;padding: 0;position: absolute;width: 1px;}#sk-container-id-2 div.sk-estimator {font-family: monospace;background-color: #f0f8ff;border: 1px dotted black;border-radius: 0.25em;box-sizing: border-box;margin-bottom: 0.5em;}#sk-container-id-2 div.sk-estimator:hover {background-color: #d4ebff;}#sk-container-id-2 div.sk-parallel-item::after {content: \"\";width: 100%;border-bottom: 1px solid gray;flex-grow: 1;}#sk-container-id-2 div.sk-label:hover label.sk-toggleable__label {background-color: #d4ebff;}#sk-container-id-2 div.sk-serial::before {content: \"\";position: absolute;border-left: 1px solid gray;box-sizing: border-box;top: 0;bottom: 0;left: 50%;z-index: 0;}#sk-container-id-2 div.sk-serial {display: flex;flex-direction: column;align-items: center;background-color: white;padding-right: 0.2em;padding-left: 0.2em;position: relative;}#sk-container-id-2 div.sk-item {position: relative;z-index: 1;}#sk-container-id-2 div.sk-parallel {display: flex;align-items: stretch;justify-content: center;background-color: white;position: relative;}#sk-container-id-2 div.sk-item::before, #sk-container-id-2 div.sk-parallel-item::before {content: \"\";position: absolute;border-left: 1px solid gray;box-sizing: border-box;top: 0;bottom: 0;left: 50%;z-index: -1;}#sk-container-id-2 div.sk-parallel-item {display: flex;flex-direction: column;z-index: 1;position: relative;background-color: white;}#sk-container-id-2 div.sk-parallel-item:first-child::after {align-self: flex-end;width: 50%;}#sk-container-id-2 div.sk-parallel-item:last-child::after {align-self: flex-start;width: 50%;}#sk-container-id-2 div.sk-parallel-item:only-child::after {width: 0;}#sk-container-id-2 div.sk-dashed-wrapped {border: 1px dashed gray;margin: 0 0.4em 0.5em 0.4em;box-sizing: border-box;padding-bottom: 0.4em;background-color: white;}#sk-container-id-2 div.sk-label label {font-family: monospace;font-weight: bold;display: inline-block;line-height: 1.2em;}#sk-container-id-2 div.sk-label-container {text-align: center;}#sk-container-id-2 div.sk-container {/* jupyter's `normalize.less` sets `[hidden] { display: none; }` but bootstrap.min.css set `[hidden] { display: none !important; }` so we also need the `!important` here to be able to override the default hidden behavior on the sphinx rendered scikit-learn.org. See: https://github.com/scikit-learn/scikit-learn/issues/21755 */display: inline-block !important;position: relative;}#sk-container-id-2 div.sk-text-repr-fallback {display: none;}</style><div id=\"sk-container-id-2\" class=\"sk-top-container\"><div class=\"sk-text-repr-fallback\"><pre>LogisticRegression()</pre><b>In a Jupyter environment, please rerun this cell to show the HTML representation or trust the notebook. <br />On GitHub, the HTML representation is unable to render, please try loading this page with nbviewer.org.</b></div><div class=\"sk-container\" hidden><div class=\"sk-item\"><div class=\"sk-estimator sk-toggleable\"><input class=\"sk-toggleable__control sk-hidden--visually\" id=\"sk-estimator-id-2\" type=\"checkbox\" checked><label for=\"sk-estimator-id-2\" class=\"sk-toggleable__label sk-toggleable__label-arrow\">LogisticRegression</label><div class=\"sk-toggleable__content\"><pre>LogisticRegression()</pre></div></div></div></div></div>"
            ]
          },
          "metadata": {},
          "execution_count": 28
        }
      ]
    },
    {
      "cell_type": "code",
      "source": [
        "y_pred=model.predict(x_test)\n",
        "from sklearn.metrics import accuracy_score\n",
        "accuracy_score(y_test,y_pred)"
      ],
      "metadata": {
        "colab": {
          "base_uri": "https://localhost:8080/"
        },
        "id": "_sHl1nbWY-yU",
        "outputId": "5df460b9-d492-4afe-82f8-72f7fee9df9b"
      },
      "execution_count": null,
      "outputs": [
        {
          "output_type": "execute_result",
          "data": {
            "text/plain": [
              "0.9586286337337109"
            ]
          },
          "metadata": {},
          "execution_count": 29
        }
      ]
    },
    {
      "cell_type": "code",
      "source": [
        "from sklearn.metrics import classification_report\n",
        "print(classification_report(y_test, y_pred))"
      ],
      "metadata": {
        "colab": {
          "base_uri": "https://localhost:8080/"
        },
        "id": "MTHG0Ppfi6B6",
        "outputId": "128e0bab-84a6-4bd8-bc38-bd3553504be2"
      },
      "execution_count": null,
      "outputs": [
        {
          "output_type": "stream",
          "name": "stdout",
          "text": [
            "              precision    recall  f1-score   support\n",
            "\n",
            "           0       0.94      0.98      0.96     56750\n",
            "           1       0.98      0.94      0.96     56976\n",
            "\n",
            "    accuracy                           0.96    113726\n",
            "   macro avg       0.96      0.96      0.96    113726\n",
            "weighted avg       0.96      0.96      0.96    113726\n",
            "\n"
          ]
        }
      ]
    },
    {
      "cell_type": "code",
      "source": [
        "# decicion Tree"
      ],
      "metadata": {
        "id": "yq4eJSZiaiGS"
      },
      "execution_count": null,
      "outputs": []
    },
    {
      "cell_type": "code",
      "source": [
        "# Decicion tree for all feature excluding id and class itself\n",
        "x = df[['V1', 'V2', 'V3', 'V4', 'V5', 'V6', 'V7', 'V8', 'V9', 'V10', 'V11', 'V12', 'V13', 'V14', 'V15', 'V16', 'V17', 'V18', 'V19', 'V20', 'V21', 'V22', 'V23', 'V24', 'V25', 'V26', 'V27', 'V28', 'Amount']]\n",
        "y=df['Class']\n",
        "x_train, x_test, y_train, y_test = train_test_split(x,y, test_size=0.2, random_state=42)"
      ],
      "metadata": {
        "id": "D3k_VL1TaoCP"
      },
      "execution_count": null,
      "outputs": []
    },
    {
      "cell_type": "code",
      "source": [
        "from sklearn.tree import DecisionTreeClassifier\n",
        "model_decision_tree = DecisionTreeClassifier()\n",
        "model_decision_tree.fit(x_train,y_train)\n"
      ],
      "metadata": {
        "colab": {
          "base_uri": "https://localhost:8080/",
          "height": 74
        },
        "id": "sBwacdZ0cAB5",
        "outputId": "fc9c5b3c-3ca5-4748-8bab-b0de527eecd6"
      },
      "execution_count": null,
      "outputs": [
        {
          "output_type": "execute_result",
          "data": {
            "text/plain": [
              "DecisionTreeClassifier()"
            ],
            "text/html": [
              "<style>#sk-container-id-3 {color: black;background-color: white;}#sk-container-id-3 pre{padding: 0;}#sk-container-id-3 div.sk-toggleable {background-color: white;}#sk-container-id-3 label.sk-toggleable__label {cursor: pointer;display: block;width: 100%;margin-bottom: 0;padding: 0.3em;box-sizing: border-box;text-align: center;}#sk-container-id-3 label.sk-toggleable__label-arrow:before {content: \"▸\";float: left;margin-right: 0.25em;color: #696969;}#sk-container-id-3 label.sk-toggleable__label-arrow:hover:before {color: black;}#sk-container-id-3 div.sk-estimator:hover label.sk-toggleable__label-arrow:before {color: black;}#sk-container-id-3 div.sk-toggleable__content {max-height: 0;max-width: 0;overflow: hidden;text-align: left;background-color: #f0f8ff;}#sk-container-id-3 div.sk-toggleable__content pre {margin: 0.2em;color: black;border-radius: 0.25em;background-color: #f0f8ff;}#sk-container-id-3 input.sk-toggleable__control:checked~div.sk-toggleable__content {max-height: 200px;max-width: 100%;overflow: auto;}#sk-container-id-3 input.sk-toggleable__control:checked~label.sk-toggleable__label-arrow:before {content: \"▾\";}#sk-container-id-3 div.sk-estimator input.sk-toggleable__control:checked~label.sk-toggleable__label {background-color: #d4ebff;}#sk-container-id-3 div.sk-label input.sk-toggleable__control:checked~label.sk-toggleable__label {background-color: #d4ebff;}#sk-container-id-3 input.sk-hidden--visually {border: 0;clip: rect(1px 1px 1px 1px);clip: rect(1px, 1px, 1px, 1px);height: 1px;margin: -1px;overflow: hidden;padding: 0;position: absolute;width: 1px;}#sk-container-id-3 div.sk-estimator {font-family: monospace;background-color: #f0f8ff;border: 1px dotted black;border-radius: 0.25em;box-sizing: border-box;margin-bottom: 0.5em;}#sk-container-id-3 div.sk-estimator:hover {background-color: #d4ebff;}#sk-container-id-3 div.sk-parallel-item::after {content: \"\";width: 100%;border-bottom: 1px solid gray;flex-grow: 1;}#sk-container-id-3 div.sk-label:hover label.sk-toggleable__label {background-color: #d4ebff;}#sk-container-id-3 div.sk-serial::before {content: \"\";position: absolute;border-left: 1px solid gray;box-sizing: border-box;top: 0;bottom: 0;left: 50%;z-index: 0;}#sk-container-id-3 div.sk-serial {display: flex;flex-direction: column;align-items: center;background-color: white;padding-right: 0.2em;padding-left: 0.2em;position: relative;}#sk-container-id-3 div.sk-item {position: relative;z-index: 1;}#sk-container-id-3 div.sk-parallel {display: flex;align-items: stretch;justify-content: center;background-color: white;position: relative;}#sk-container-id-3 div.sk-item::before, #sk-container-id-3 div.sk-parallel-item::before {content: \"\";position: absolute;border-left: 1px solid gray;box-sizing: border-box;top: 0;bottom: 0;left: 50%;z-index: -1;}#sk-container-id-3 div.sk-parallel-item {display: flex;flex-direction: column;z-index: 1;position: relative;background-color: white;}#sk-container-id-3 div.sk-parallel-item:first-child::after {align-self: flex-end;width: 50%;}#sk-container-id-3 div.sk-parallel-item:last-child::after {align-self: flex-start;width: 50%;}#sk-container-id-3 div.sk-parallel-item:only-child::after {width: 0;}#sk-container-id-3 div.sk-dashed-wrapped {border: 1px dashed gray;margin: 0 0.4em 0.5em 0.4em;box-sizing: border-box;padding-bottom: 0.4em;background-color: white;}#sk-container-id-3 div.sk-label label {font-family: monospace;font-weight: bold;display: inline-block;line-height: 1.2em;}#sk-container-id-3 div.sk-label-container {text-align: center;}#sk-container-id-3 div.sk-container {/* jupyter's `normalize.less` sets `[hidden] { display: none; }` but bootstrap.min.css set `[hidden] { display: none !important; }` so we also need the `!important` here to be able to override the default hidden behavior on the sphinx rendered scikit-learn.org. See: https://github.com/scikit-learn/scikit-learn/issues/21755 */display: inline-block !important;position: relative;}#sk-container-id-3 div.sk-text-repr-fallback {display: none;}</style><div id=\"sk-container-id-3\" class=\"sk-top-container\"><div class=\"sk-text-repr-fallback\"><pre>DecisionTreeClassifier()</pre><b>In a Jupyter environment, please rerun this cell to show the HTML representation or trust the notebook. <br />On GitHub, the HTML representation is unable to render, please try loading this page with nbviewer.org.</b></div><div class=\"sk-container\" hidden><div class=\"sk-item\"><div class=\"sk-estimator sk-toggleable\"><input class=\"sk-toggleable__control sk-hidden--visually\" id=\"sk-estimator-id-3\" type=\"checkbox\" checked><label for=\"sk-estimator-id-3\" class=\"sk-toggleable__label sk-toggleable__label-arrow\">DecisionTreeClassifier</label><div class=\"sk-toggleable__content\"><pre>DecisionTreeClassifier()</pre></div></div></div></div></div>"
            ]
          },
          "metadata": {},
          "execution_count": 33
        }
      ]
    },
    {
      "cell_type": "code",
      "source": [
        "y_pred=model_decision_tree.predict(x_test)\n",
        "from sklearn.metrics import accuracy_score\n",
        "accuracy_score(y_test,y_pred)"
      ],
      "metadata": {
        "colab": {
          "base_uri": "https://localhost:8080/"
        },
        "id": "iO65qWxEcDS4",
        "outputId": "ea4979db-c2e6-4cd1-ac86-dff53d6d2d1d"
      },
      "execution_count": null,
      "outputs": [
        {
          "output_type": "execute_result",
          "data": {
            "text/plain": [
              "0.9980391467210664"
            ]
          },
          "metadata": {},
          "execution_count": 34
        }
      ]
    },
    {
      "cell_type": "code",
      "source": [
        "from sklearn.metrics import classification_report\n",
        "print(classification_report(y_test, y_pred))"
      ],
      "metadata": {
        "colab": {
          "base_uri": "https://localhost:8080/"
        },
        "id": "2oqB-VJ4i7F6",
        "outputId": "8a3f96a0-e343-46c1-e05a-7c37f96cf686"
      },
      "execution_count": null,
      "outputs": [
        {
          "output_type": "stream",
          "name": "stdout",
          "text": [
            "              precision    recall  f1-score   support\n",
            "\n",
            "           0       1.00      1.00      1.00     56750\n",
            "           1       1.00      1.00      1.00     56976\n",
            "\n",
            "    accuracy                           1.00    113726\n",
            "   macro avg       1.00      1.00      1.00    113726\n",
            "weighted avg       1.00      1.00      1.00    113726\n",
            "\n"
          ]
        }
      ]
    },
    {
      "cell_type": "code",
      "source": [
        "# Decision tree for feature which are related to 0.5 corelation\n",
        "x=df[['V1', 'V3', 'V4', 'V9', 'V10', 'V11', 'V12', 'V14', 'V16']]\n",
        "y=df['Class']\n",
        "x_train, x_test, y_train, y_test = train_test_split(x,y, test_size=0.2, random_state=42)"
      ],
      "metadata": {
        "id": "szdvTgAocejJ"
      },
      "execution_count": null,
      "outputs": []
    },
    {
      "cell_type": "code",
      "source": [
        "from sklearn.tree import DecisionTreeClassifier\n",
        "model_decision_tree = DecisionTreeClassifier()\n",
        "model_decision_tree.fit(x_train,y_train)"
      ],
      "metadata": {
        "colab": {
          "base_uri": "https://localhost:8080/",
          "height": 74
        },
        "id": "YhxwM-b-fiJ3",
        "outputId": "273b429a-6d91-4fdb-e1a7-a5f0591d85f5"
      },
      "execution_count": null,
      "outputs": [
        {
          "output_type": "execute_result",
          "data": {
            "text/plain": [
              "DecisionTreeClassifier()"
            ],
            "text/html": [
              "<style>#sk-container-id-4 {color: black;background-color: white;}#sk-container-id-4 pre{padding: 0;}#sk-container-id-4 div.sk-toggleable {background-color: white;}#sk-container-id-4 label.sk-toggleable__label {cursor: pointer;display: block;width: 100%;margin-bottom: 0;padding: 0.3em;box-sizing: border-box;text-align: center;}#sk-container-id-4 label.sk-toggleable__label-arrow:before {content: \"▸\";float: left;margin-right: 0.25em;color: #696969;}#sk-container-id-4 label.sk-toggleable__label-arrow:hover:before {color: black;}#sk-container-id-4 div.sk-estimator:hover label.sk-toggleable__label-arrow:before {color: black;}#sk-container-id-4 div.sk-toggleable__content {max-height: 0;max-width: 0;overflow: hidden;text-align: left;background-color: #f0f8ff;}#sk-container-id-4 div.sk-toggleable__content pre {margin: 0.2em;color: black;border-radius: 0.25em;background-color: #f0f8ff;}#sk-container-id-4 input.sk-toggleable__control:checked~div.sk-toggleable__content {max-height: 200px;max-width: 100%;overflow: auto;}#sk-container-id-4 input.sk-toggleable__control:checked~label.sk-toggleable__label-arrow:before {content: \"▾\";}#sk-container-id-4 div.sk-estimator input.sk-toggleable__control:checked~label.sk-toggleable__label {background-color: #d4ebff;}#sk-container-id-4 div.sk-label input.sk-toggleable__control:checked~label.sk-toggleable__label {background-color: #d4ebff;}#sk-container-id-4 input.sk-hidden--visually {border: 0;clip: rect(1px 1px 1px 1px);clip: rect(1px, 1px, 1px, 1px);height: 1px;margin: -1px;overflow: hidden;padding: 0;position: absolute;width: 1px;}#sk-container-id-4 div.sk-estimator {font-family: monospace;background-color: #f0f8ff;border: 1px dotted black;border-radius: 0.25em;box-sizing: border-box;margin-bottom: 0.5em;}#sk-container-id-4 div.sk-estimator:hover {background-color: #d4ebff;}#sk-container-id-4 div.sk-parallel-item::after {content: \"\";width: 100%;border-bottom: 1px solid gray;flex-grow: 1;}#sk-container-id-4 div.sk-label:hover label.sk-toggleable__label {background-color: #d4ebff;}#sk-container-id-4 div.sk-serial::before {content: \"\";position: absolute;border-left: 1px solid gray;box-sizing: border-box;top: 0;bottom: 0;left: 50%;z-index: 0;}#sk-container-id-4 div.sk-serial {display: flex;flex-direction: column;align-items: center;background-color: white;padding-right: 0.2em;padding-left: 0.2em;position: relative;}#sk-container-id-4 div.sk-item {position: relative;z-index: 1;}#sk-container-id-4 div.sk-parallel {display: flex;align-items: stretch;justify-content: center;background-color: white;position: relative;}#sk-container-id-4 div.sk-item::before, #sk-container-id-4 div.sk-parallel-item::before {content: \"\";position: absolute;border-left: 1px solid gray;box-sizing: border-box;top: 0;bottom: 0;left: 50%;z-index: -1;}#sk-container-id-4 div.sk-parallel-item {display: flex;flex-direction: column;z-index: 1;position: relative;background-color: white;}#sk-container-id-4 div.sk-parallel-item:first-child::after {align-self: flex-end;width: 50%;}#sk-container-id-4 div.sk-parallel-item:last-child::after {align-self: flex-start;width: 50%;}#sk-container-id-4 div.sk-parallel-item:only-child::after {width: 0;}#sk-container-id-4 div.sk-dashed-wrapped {border: 1px dashed gray;margin: 0 0.4em 0.5em 0.4em;box-sizing: border-box;padding-bottom: 0.4em;background-color: white;}#sk-container-id-4 div.sk-label label {font-family: monospace;font-weight: bold;display: inline-block;line-height: 1.2em;}#sk-container-id-4 div.sk-label-container {text-align: center;}#sk-container-id-4 div.sk-container {/* jupyter's `normalize.less` sets `[hidden] { display: none; }` but bootstrap.min.css set `[hidden] { display: none !important; }` so we also need the `!important` here to be able to override the default hidden behavior on the sphinx rendered scikit-learn.org. See: https://github.com/scikit-learn/scikit-learn/issues/21755 */display: inline-block !important;position: relative;}#sk-container-id-4 div.sk-text-repr-fallback {display: none;}</style><div id=\"sk-container-id-4\" class=\"sk-top-container\"><div class=\"sk-text-repr-fallback\"><pre>DecisionTreeClassifier()</pre><b>In a Jupyter environment, please rerun this cell to show the HTML representation or trust the notebook. <br />On GitHub, the HTML representation is unable to render, please try loading this page with nbviewer.org.</b></div><div class=\"sk-container\" hidden><div class=\"sk-item\"><div class=\"sk-estimator sk-toggleable\"><input class=\"sk-toggleable__control sk-hidden--visually\" id=\"sk-estimator-id-4\" type=\"checkbox\" checked><label for=\"sk-estimator-id-4\" class=\"sk-toggleable__label sk-toggleable__label-arrow\">DecisionTreeClassifier</label><div class=\"sk-toggleable__content\"><pre>DecisionTreeClassifier()</pre></div></div></div></div></div>"
            ]
          },
          "metadata": {},
          "execution_count": 37
        }
      ]
    },
    {
      "cell_type": "code",
      "source": [
        "y_pred=model_decision_tree.predict(x_test)\n",
        "from sklearn.metrics import accuracy_score\n",
        "accuracy_score(y_test,y_pred)"
      ],
      "metadata": {
        "colab": {
          "base_uri": "https://localhost:8080/"
        },
        "id": "Oq4nkm0LfkKb",
        "outputId": "1c877867-0e9d-4c1d-8493-bd08c5647a34"
      },
      "execution_count": null,
      "outputs": [
        {
          "output_type": "execute_result",
          "data": {
            "text/plain": [
              "0.9967905316286513"
            ]
          },
          "metadata": {},
          "execution_count": 38
        }
      ]
    },
    {
      "cell_type": "code",
      "source": [
        "from sklearn.metrics import classification_report\n",
        "print(classification_report(y_test, y_pred))"
      ],
      "metadata": {
        "colab": {
          "base_uri": "https://localhost:8080/"
        },
        "id": "T5v8NX52i8ak",
        "outputId": "f379a036-23ed-4bde-fc9e-2c0c73a15f52"
      },
      "execution_count": null,
      "outputs": [
        {
          "output_type": "stream",
          "name": "stdout",
          "text": [
            "              precision    recall  f1-score   support\n",
            "\n",
            "           0       1.00      1.00      1.00     56750\n",
            "           1       1.00      1.00      1.00     56976\n",
            "\n",
            "    accuracy                           1.00    113726\n",
            "   macro avg       1.00      1.00      1.00    113726\n",
            "weighted avg       1.00      1.00      1.00    113726\n",
            "\n"
          ]
        }
      ]
    },
    {
      "cell_type": "code",
      "source": [
        "# Random Forest\n",
        "# for all features"
      ],
      "metadata": {
        "id": "748hjz60gdOs"
      },
      "execution_count": null,
      "outputs": []
    },
    {
      "cell_type": "code",
      "source": [
        "from sklearn.ensemble import RandomForestClassifier\n",
        "x = df[['V1', 'V2', 'V3', 'V4', 'V5', 'V6', 'V7', 'V8', 'V9', 'V10', 'V11', 'V12', 'V13', 'V14', 'V15', 'V16', 'V17', 'V18', 'V19', 'V20', 'V21', 'V22', 'V23', 'V24', 'V25', 'V26', 'V27', 'V28', 'Amount']]\n",
        "y=df['Class']\n",
        "x_train, x_test, y_train, y_test = train_test_split(x,y, test_size=0.2, random_state=42)\n",
        "model_random_forest = RandomForestClassifier()\n",
        "model_random_forest.fit(x_train,y_train)\n"
      ],
      "metadata": {
        "colab": {
          "base_uri": "https://localhost:8080/",
          "height": 74
        },
        "id": "jUFEn2Hzgf2t",
        "outputId": "f77c0a03-77bc-4848-c545-c08842406ac5"
      },
      "execution_count": null,
      "outputs": [
        {
          "output_type": "execute_result",
          "data": {
            "text/plain": [
              "RandomForestClassifier()"
            ],
            "text/html": [
              "<style>#sk-container-id-5 {color: black;background-color: white;}#sk-container-id-5 pre{padding: 0;}#sk-container-id-5 div.sk-toggleable {background-color: white;}#sk-container-id-5 label.sk-toggleable__label {cursor: pointer;display: block;width: 100%;margin-bottom: 0;padding: 0.3em;box-sizing: border-box;text-align: center;}#sk-container-id-5 label.sk-toggleable__label-arrow:before {content: \"▸\";float: left;margin-right: 0.25em;color: #696969;}#sk-container-id-5 label.sk-toggleable__label-arrow:hover:before {color: black;}#sk-container-id-5 div.sk-estimator:hover label.sk-toggleable__label-arrow:before {color: black;}#sk-container-id-5 div.sk-toggleable__content {max-height: 0;max-width: 0;overflow: hidden;text-align: left;background-color: #f0f8ff;}#sk-container-id-5 div.sk-toggleable__content pre {margin: 0.2em;color: black;border-radius: 0.25em;background-color: #f0f8ff;}#sk-container-id-5 input.sk-toggleable__control:checked~div.sk-toggleable__content {max-height: 200px;max-width: 100%;overflow: auto;}#sk-container-id-5 input.sk-toggleable__control:checked~label.sk-toggleable__label-arrow:before {content: \"▾\";}#sk-container-id-5 div.sk-estimator input.sk-toggleable__control:checked~label.sk-toggleable__label {background-color: #d4ebff;}#sk-container-id-5 div.sk-label input.sk-toggleable__control:checked~label.sk-toggleable__label {background-color: #d4ebff;}#sk-container-id-5 input.sk-hidden--visually {border: 0;clip: rect(1px 1px 1px 1px);clip: rect(1px, 1px, 1px, 1px);height: 1px;margin: -1px;overflow: hidden;padding: 0;position: absolute;width: 1px;}#sk-container-id-5 div.sk-estimator {font-family: monospace;background-color: #f0f8ff;border: 1px dotted black;border-radius: 0.25em;box-sizing: border-box;margin-bottom: 0.5em;}#sk-container-id-5 div.sk-estimator:hover {background-color: #d4ebff;}#sk-container-id-5 div.sk-parallel-item::after {content: \"\";width: 100%;border-bottom: 1px solid gray;flex-grow: 1;}#sk-container-id-5 div.sk-label:hover label.sk-toggleable__label {background-color: #d4ebff;}#sk-container-id-5 div.sk-serial::before {content: \"\";position: absolute;border-left: 1px solid gray;box-sizing: border-box;top: 0;bottom: 0;left: 50%;z-index: 0;}#sk-container-id-5 div.sk-serial {display: flex;flex-direction: column;align-items: center;background-color: white;padding-right: 0.2em;padding-left: 0.2em;position: relative;}#sk-container-id-5 div.sk-item {position: relative;z-index: 1;}#sk-container-id-5 div.sk-parallel {display: flex;align-items: stretch;justify-content: center;background-color: white;position: relative;}#sk-container-id-5 div.sk-item::before, #sk-container-id-5 div.sk-parallel-item::before {content: \"\";position: absolute;border-left: 1px solid gray;box-sizing: border-box;top: 0;bottom: 0;left: 50%;z-index: -1;}#sk-container-id-5 div.sk-parallel-item {display: flex;flex-direction: column;z-index: 1;position: relative;background-color: white;}#sk-container-id-5 div.sk-parallel-item:first-child::after {align-self: flex-end;width: 50%;}#sk-container-id-5 div.sk-parallel-item:last-child::after {align-self: flex-start;width: 50%;}#sk-container-id-5 div.sk-parallel-item:only-child::after {width: 0;}#sk-container-id-5 div.sk-dashed-wrapped {border: 1px dashed gray;margin: 0 0.4em 0.5em 0.4em;box-sizing: border-box;padding-bottom: 0.4em;background-color: white;}#sk-container-id-5 div.sk-label label {font-family: monospace;font-weight: bold;display: inline-block;line-height: 1.2em;}#sk-container-id-5 div.sk-label-container {text-align: center;}#sk-container-id-5 div.sk-container {/* jupyter's `normalize.less` sets `[hidden] { display: none; }` but bootstrap.min.css set `[hidden] { display: none !important; }` so we also need the `!important` here to be able to override the default hidden behavior on the sphinx rendered scikit-learn.org. See: https://github.com/scikit-learn/scikit-learn/issues/21755 */display: inline-block !important;position: relative;}#sk-container-id-5 div.sk-text-repr-fallback {display: none;}</style><div id=\"sk-container-id-5\" class=\"sk-top-container\"><div class=\"sk-text-repr-fallback\"><pre>RandomForestClassifier()</pre><b>In a Jupyter environment, please rerun this cell to show the HTML representation or trust the notebook. <br />On GitHub, the HTML representation is unable to render, please try loading this page with nbviewer.org.</b></div><div class=\"sk-container\" hidden><div class=\"sk-item\"><div class=\"sk-estimator sk-toggleable\"><input class=\"sk-toggleable__control sk-hidden--visually\" id=\"sk-estimator-id-5\" type=\"checkbox\" checked><label for=\"sk-estimator-id-5\" class=\"sk-toggleable__label sk-toggleable__label-arrow\">RandomForestClassifier</label><div class=\"sk-toggleable__content\"><pre>RandomForestClassifier()</pre></div></div></div></div></div>"
            ]
          },
          "metadata": {},
          "execution_count": 41
        }
      ]
    },
    {
      "cell_type": "code",
      "source": [
        "y_pred=model_random_forest.predict(x_test)\n",
        "accuracy_score(y_test,y_pred)"
      ],
      "metadata": {
        "colab": {
          "base_uri": "https://localhost:8080/"
        },
        "id": "ufqDkVzghKvQ",
        "outputId": "4630cdad-7eb6-4fe3-e0bd-536acddb68d0"
      },
      "execution_count": null,
      "outputs": [
        {
          "output_type": "execute_result",
          "data": {
            "text/plain": [
              "0.9998944832316269"
            ]
          },
          "metadata": {},
          "execution_count": 42
        }
      ]
    },
    {
      "cell_type": "code",
      "source": [
        "from sklearn.metrics import classification_report\n",
        "print(classification_report(y_test, y_pred))"
      ],
      "metadata": {
        "colab": {
          "base_uri": "https://localhost:8080/"
        },
        "id": "3__g-Ms5h3Ox",
        "outputId": "7c7f1ec7-dfeb-4424-c6b8-da1e3bd97fa4"
      },
      "execution_count": null,
      "outputs": [
        {
          "output_type": "stream",
          "name": "stdout",
          "text": [
            "              precision    recall  f1-score   support\n",
            "\n",
            "           0       1.00      1.00      1.00     56750\n",
            "           1       1.00      1.00      1.00     56976\n",
            "\n",
            "    accuracy                           1.00    113726\n",
            "   macro avg       1.00      1.00      1.00    113726\n",
            "weighted avg       1.00      1.00      1.00    113726\n",
            "\n"
          ]
        }
      ]
    },
    {
      "cell_type": "code",
      "source": [
        "# random forest for feature having more than 0.5\n",
        "\n",
        "x=df[['V1', 'V3', 'V4', 'V9', 'V10', 'V11', 'V12', 'V14', 'V16']]\n",
        "y=df['Class']\n",
        "x_train, x_test, y_train, y_test = train_test_split(x,y, test_size=0.2, random_state=42)\n",
        "model_random_forest = RandomForestClassifier(max_depth=5)\n",
        "model_random_forest.fit(x_train,y_train)\n",
        "\n"
      ],
      "metadata": {
        "colab": {
          "base_uri": "https://localhost:8080/",
          "height": 74
        },
        "id": "hels_fuejbDl",
        "outputId": "90aef25e-9034-4c7e-ed3c-80c572a86526"
      },
      "execution_count": null,
      "outputs": [
        {
          "output_type": "execute_result",
          "data": {
            "text/plain": [
              "RandomForestClassifier(max_depth=5)"
            ],
            "text/html": [
              "<style>#sk-container-id-6 {color: black;background-color: white;}#sk-container-id-6 pre{padding: 0;}#sk-container-id-6 div.sk-toggleable {background-color: white;}#sk-container-id-6 label.sk-toggleable__label {cursor: pointer;display: block;width: 100%;margin-bottom: 0;padding: 0.3em;box-sizing: border-box;text-align: center;}#sk-container-id-6 label.sk-toggleable__label-arrow:before {content: \"▸\";float: left;margin-right: 0.25em;color: #696969;}#sk-container-id-6 label.sk-toggleable__label-arrow:hover:before {color: black;}#sk-container-id-6 div.sk-estimator:hover label.sk-toggleable__label-arrow:before {color: black;}#sk-container-id-6 div.sk-toggleable__content {max-height: 0;max-width: 0;overflow: hidden;text-align: left;background-color: #f0f8ff;}#sk-container-id-6 div.sk-toggleable__content pre {margin: 0.2em;color: black;border-radius: 0.25em;background-color: #f0f8ff;}#sk-container-id-6 input.sk-toggleable__control:checked~div.sk-toggleable__content {max-height: 200px;max-width: 100%;overflow: auto;}#sk-container-id-6 input.sk-toggleable__control:checked~label.sk-toggleable__label-arrow:before {content: \"▾\";}#sk-container-id-6 div.sk-estimator input.sk-toggleable__control:checked~label.sk-toggleable__label {background-color: #d4ebff;}#sk-container-id-6 div.sk-label input.sk-toggleable__control:checked~label.sk-toggleable__label {background-color: #d4ebff;}#sk-container-id-6 input.sk-hidden--visually {border: 0;clip: rect(1px 1px 1px 1px);clip: rect(1px, 1px, 1px, 1px);height: 1px;margin: -1px;overflow: hidden;padding: 0;position: absolute;width: 1px;}#sk-container-id-6 div.sk-estimator {font-family: monospace;background-color: #f0f8ff;border: 1px dotted black;border-radius: 0.25em;box-sizing: border-box;margin-bottom: 0.5em;}#sk-container-id-6 div.sk-estimator:hover {background-color: #d4ebff;}#sk-container-id-6 div.sk-parallel-item::after {content: \"\";width: 100%;border-bottom: 1px solid gray;flex-grow: 1;}#sk-container-id-6 div.sk-label:hover label.sk-toggleable__label {background-color: #d4ebff;}#sk-container-id-6 div.sk-serial::before {content: \"\";position: absolute;border-left: 1px solid gray;box-sizing: border-box;top: 0;bottom: 0;left: 50%;z-index: 0;}#sk-container-id-6 div.sk-serial {display: flex;flex-direction: column;align-items: center;background-color: white;padding-right: 0.2em;padding-left: 0.2em;position: relative;}#sk-container-id-6 div.sk-item {position: relative;z-index: 1;}#sk-container-id-6 div.sk-parallel {display: flex;align-items: stretch;justify-content: center;background-color: white;position: relative;}#sk-container-id-6 div.sk-item::before, #sk-container-id-6 div.sk-parallel-item::before {content: \"\";position: absolute;border-left: 1px solid gray;box-sizing: border-box;top: 0;bottom: 0;left: 50%;z-index: -1;}#sk-container-id-6 div.sk-parallel-item {display: flex;flex-direction: column;z-index: 1;position: relative;background-color: white;}#sk-container-id-6 div.sk-parallel-item:first-child::after {align-self: flex-end;width: 50%;}#sk-container-id-6 div.sk-parallel-item:last-child::after {align-self: flex-start;width: 50%;}#sk-container-id-6 div.sk-parallel-item:only-child::after {width: 0;}#sk-container-id-6 div.sk-dashed-wrapped {border: 1px dashed gray;margin: 0 0.4em 0.5em 0.4em;box-sizing: border-box;padding-bottom: 0.4em;background-color: white;}#sk-container-id-6 div.sk-label label {font-family: monospace;font-weight: bold;display: inline-block;line-height: 1.2em;}#sk-container-id-6 div.sk-label-container {text-align: center;}#sk-container-id-6 div.sk-container {/* jupyter's `normalize.less` sets `[hidden] { display: none; }` but bootstrap.min.css set `[hidden] { display: none !important; }` so we also need the `!important` here to be able to override the default hidden behavior on the sphinx rendered scikit-learn.org. See: https://github.com/scikit-learn/scikit-learn/issues/21755 */display: inline-block !important;position: relative;}#sk-container-id-6 div.sk-text-repr-fallback {display: none;}</style><div id=\"sk-container-id-6\" class=\"sk-top-container\"><div class=\"sk-text-repr-fallback\"><pre>RandomForestClassifier(max_depth=5)</pre><b>In a Jupyter environment, please rerun this cell to show the HTML representation or trust the notebook. <br />On GitHub, the HTML representation is unable to render, please try loading this page with nbviewer.org.</b></div><div class=\"sk-container\" hidden><div class=\"sk-item\"><div class=\"sk-estimator sk-toggleable\"><input class=\"sk-toggleable__control sk-hidden--visually\" id=\"sk-estimator-id-6\" type=\"checkbox\" checked><label for=\"sk-estimator-id-6\" class=\"sk-toggleable__label sk-toggleable__label-arrow\">RandomForestClassifier</label><div class=\"sk-toggleable__content\"><pre>RandomForestClassifier(max_depth=5)</pre></div></div></div></div></div>"
            ]
          },
          "metadata": {},
          "execution_count": 44
        }
      ]
    },
    {
      "cell_type": "code",
      "source": [
        "y_pred=model_random_forest.predict(x_test)\n",
        "accuracy_score(y_test,y_pred)\n"
      ],
      "metadata": {
        "colab": {
          "base_uri": "https://localhost:8080/"
        },
        "id": "57dyAuo5jrmk",
        "outputId": "fcfa83dc-5838-4b25-ab30-ca4b35ef6ea8"
      },
      "execution_count": null,
      "outputs": [
        {
          "output_type": "execute_result",
          "data": {
            "text/plain": [
              "0.958268118108436"
            ]
          },
          "metadata": {},
          "execution_count": 45
        }
      ]
    },
    {
      "cell_type": "code",
      "source": [
        "print(classification_report(y_test, y_pred))"
      ],
      "metadata": {
        "colab": {
          "base_uri": "https://localhost:8080/"
        },
        "id": "R1t5wOk0kkjj",
        "outputId": "62c8ad19-13f1-4ecd-f113-8d30a25ba162"
      },
      "execution_count": null,
      "outputs": [
        {
          "output_type": "stream",
          "name": "stdout",
          "text": [
            "              precision    recall  f1-score   support\n",
            "\n",
            "           0       0.93      0.99      0.96     56750\n",
            "           1       0.99      0.92      0.96     56976\n",
            "\n",
            "    accuracy                           0.96    113726\n",
            "   macro avg       0.96      0.96      0.96    113726\n",
            "weighted avg       0.96      0.96      0.96    113726\n",
            "\n"
          ]
        }
      ]
    },
    {
      "cell_type": "code",
      "source": [
        "# KNN model classification\n",
        "# for all features"
      ],
      "metadata": {
        "id": "AFTpGnfSk3pH"
      },
      "execution_count": null,
      "outputs": []
    },
    {
      "cell_type": "code",
      "source": [
        "from sklearn.neighbors import KNeighborsClassifier\n",
        "x = df[['V1', 'V2', 'V3', 'V4', 'V5', 'V6', 'V7', 'V8', 'V9', 'V10', 'V11', 'V12', 'V13', 'V14', 'V15', 'V16', 'V17', 'V18', 'V19', 'V20', 'V21', 'V22', 'V23', 'V24', 'V25', 'V26', 'V27', 'V28', 'Amount']]\n",
        "y=df['Class']\n",
        "x_train, x_test, y_train, y_test = train_test_split(x,y, test_size=0.2, random_state=42)\n",
        "knn = KNeighborsClassifier(n_neighbors=5)\n",
        "knn.fit(x_train, y_train)\n",
        "\n"
      ],
      "metadata": {
        "colab": {
          "base_uri": "https://localhost:8080/",
          "height": 74
        },
        "id": "6keKZ4WRk6QB",
        "outputId": "e35474ca-6652-417e-d33a-38f91343e417"
      },
      "execution_count": null,
      "outputs": [
        {
          "output_type": "execute_result",
          "data": {
            "text/plain": [
              "KNeighborsClassifier()"
            ],
            "text/html": [
              "<style>#sk-container-id-7 {color: black;background-color: white;}#sk-container-id-7 pre{padding: 0;}#sk-container-id-7 div.sk-toggleable {background-color: white;}#sk-container-id-7 label.sk-toggleable__label {cursor: pointer;display: block;width: 100%;margin-bottom: 0;padding: 0.3em;box-sizing: border-box;text-align: center;}#sk-container-id-7 label.sk-toggleable__label-arrow:before {content: \"▸\";float: left;margin-right: 0.25em;color: #696969;}#sk-container-id-7 label.sk-toggleable__label-arrow:hover:before {color: black;}#sk-container-id-7 div.sk-estimator:hover label.sk-toggleable__label-arrow:before {color: black;}#sk-container-id-7 div.sk-toggleable__content {max-height: 0;max-width: 0;overflow: hidden;text-align: left;background-color: #f0f8ff;}#sk-container-id-7 div.sk-toggleable__content pre {margin: 0.2em;color: black;border-radius: 0.25em;background-color: #f0f8ff;}#sk-container-id-7 input.sk-toggleable__control:checked~div.sk-toggleable__content {max-height: 200px;max-width: 100%;overflow: auto;}#sk-container-id-7 input.sk-toggleable__control:checked~label.sk-toggleable__label-arrow:before {content: \"▾\";}#sk-container-id-7 div.sk-estimator input.sk-toggleable__control:checked~label.sk-toggleable__label {background-color: #d4ebff;}#sk-container-id-7 div.sk-label input.sk-toggleable__control:checked~label.sk-toggleable__label {background-color: #d4ebff;}#sk-container-id-7 input.sk-hidden--visually {border: 0;clip: rect(1px 1px 1px 1px);clip: rect(1px, 1px, 1px, 1px);height: 1px;margin: -1px;overflow: hidden;padding: 0;position: absolute;width: 1px;}#sk-container-id-7 div.sk-estimator {font-family: monospace;background-color: #f0f8ff;border: 1px dotted black;border-radius: 0.25em;box-sizing: border-box;margin-bottom: 0.5em;}#sk-container-id-7 div.sk-estimator:hover {background-color: #d4ebff;}#sk-container-id-7 div.sk-parallel-item::after {content: \"\";width: 100%;border-bottom: 1px solid gray;flex-grow: 1;}#sk-container-id-7 div.sk-label:hover label.sk-toggleable__label {background-color: #d4ebff;}#sk-container-id-7 div.sk-serial::before {content: \"\";position: absolute;border-left: 1px solid gray;box-sizing: border-box;top: 0;bottom: 0;left: 50%;z-index: 0;}#sk-container-id-7 div.sk-serial {display: flex;flex-direction: column;align-items: center;background-color: white;padding-right: 0.2em;padding-left: 0.2em;position: relative;}#sk-container-id-7 div.sk-item {position: relative;z-index: 1;}#sk-container-id-7 div.sk-parallel {display: flex;align-items: stretch;justify-content: center;background-color: white;position: relative;}#sk-container-id-7 div.sk-item::before, #sk-container-id-7 div.sk-parallel-item::before {content: \"\";position: absolute;border-left: 1px solid gray;box-sizing: border-box;top: 0;bottom: 0;left: 50%;z-index: -1;}#sk-container-id-7 div.sk-parallel-item {display: flex;flex-direction: column;z-index: 1;position: relative;background-color: white;}#sk-container-id-7 div.sk-parallel-item:first-child::after {align-self: flex-end;width: 50%;}#sk-container-id-7 div.sk-parallel-item:last-child::after {align-self: flex-start;width: 50%;}#sk-container-id-7 div.sk-parallel-item:only-child::after {width: 0;}#sk-container-id-7 div.sk-dashed-wrapped {border: 1px dashed gray;margin: 0 0.4em 0.5em 0.4em;box-sizing: border-box;padding-bottom: 0.4em;background-color: white;}#sk-container-id-7 div.sk-label label {font-family: monospace;font-weight: bold;display: inline-block;line-height: 1.2em;}#sk-container-id-7 div.sk-label-container {text-align: center;}#sk-container-id-7 div.sk-container {/* jupyter's `normalize.less` sets `[hidden] { display: none; }` but bootstrap.min.css set `[hidden] { display: none !important; }` so we also need the `!important` here to be able to override the default hidden behavior on the sphinx rendered scikit-learn.org. See: https://github.com/scikit-learn/scikit-learn/issues/21755 */display: inline-block !important;position: relative;}#sk-container-id-7 div.sk-text-repr-fallback {display: none;}</style><div id=\"sk-container-id-7\" class=\"sk-top-container\"><div class=\"sk-text-repr-fallback\"><pre>KNeighborsClassifier()</pre><b>In a Jupyter environment, please rerun this cell to show the HTML representation or trust the notebook. <br />On GitHub, the HTML representation is unable to render, please try loading this page with nbviewer.org.</b></div><div class=\"sk-container\" hidden><div class=\"sk-item\"><div class=\"sk-estimator sk-toggleable\"><input class=\"sk-toggleable__control sk-hidden--visually\" id=\"sk-estimator-id-7\" type=\"checkbox\" checked><label for=\"sk-estimator-id-7\" class=\"sk-toggleable__label sk-toggleable__label-arrow\">KNeighborsClassifier</label><div class=\"sk-toggleable__content\"><pre>KNeighborsClassifier()</pre></div></div></div></div></div>"
            ]
          },
          "metadata": {},
          "execution_count": 48
        }
      ]
    },
    {
      "cell_type": "code",
      "source": [
        "# Make predictions on the test set\n",
        "y_pred = knn.predict(x_test)\n",
        "\n",
        "# Evaluate the model\n",
        "accuracy = accuracy_score(y_test, y_pred)\n",
        "print('Accuracy:', accuracy)"
      ],
      "metadata": {
        "colab": {
          "base_uri": "https://localhost:8080/"
        },
        "id": "jwiZ8DhMlne8",
        "outputId": "0f38105f-34df-4323-a8c4-ff687b10aa4b"
      },
      "execution_count": null,
      "outputs": [
        {
          "output_type": "stream",
          "name": "stdout",
          "text": [
            "Accuracy: 0.9978281131843202\n"
          ]
        }
      ]
    },
    {
      "cell_type": "code",
      "source": [
        "print(classification_report(y_test, y_pred))"
      ],
      "metadata": {
        "colab": {
          "base_uri": "https://localhost:8080/"
        },
        "id": "fmS0W4CXm0pR",
        "outputId": "dcc9b4c2-690a-4a09-cd27-0bdfd9b77757"
      },
      "execution_count": null,
      "outputs": [
        {
          "output_type": "stream",
          "name": "stdout",
          "text": [
            "              precision    recall  f1-score   support\n",
            "\n",
            "           0       1.00      1.00      1.00     56750\n",
            "           1       1.00      1.00      1.00     56976\n",
            "\n",
            "    accuracy                           1.00    113726\n",
            "   macro avg       1.00      1.00      1.00    113726\n",
            "weighted avg       1.00      1.00      1.00    113726\n",
            "\n"
          ]
        }
      ]
    },
    {
      "cell_type": "code",
      "source": [
        "# KNN for features more than 0.5\n",
        "from sklearn.neighbors import KNeighborsClassifier\n",
        "x=df[['V1', 'V3', 'V4', 'V9', 'V10', 'V11', 'V12', 'V14', 'V16']]\n",
        "y=df['Class']\n",
        "x_train, x_test, y_train, y_test = train_test_split(x,y, test_size=0.2, random_state=42)\n",
        "knn = KNeighborsClassifier(n_neighbors=5)\n",
        "knn.fit(x_train, y_train)\n"
      ],
      "metadata": {
        "colab": {
          "base_uri": "https://localhost:8080/",
          "height": 74
        },
        "id": "01ADNm-YnEfI",
        "outputId": "e67b8eda-8464-41a5-c5aa-3bdbf39511d6"
      },
      "execution_count": null,
      "outputs": [
        {
          "output_type": "execute_result",
          "data": {
            "text/plain": [
              "KNeighborsClassifier()"
            ],
            "text/html": [
              "<style>#sk-container-id-8 {color: black;background-color: white;}#sk-container-id-8 pre{padding: 0;}#sk-container-id-8 div.sk-toggleable {background-color: white;}#sk-container-id-8 label.sk-toggleable__label {cursor: pointer;display: block;width: 100%;margin-bottom: 0;padding: 0.3em;box-sizing: border-box;text-align: center;}#sk-container-id-8 label.sk-toggleable__label-arrow:before {content: \"▸\";float: left;margin-right: 0.25em;color: #696969;}#sk-container-id-8 label.sk-toggleable__label-arrow:hover:before {color: black;}#sk-container-id-8 div.sk-estimator:hover label.sk-toggleable__label-arrow:before {color: black;}#sk-container-id-8 div.sk-toggleable__content {max-height: 0;max-width: 0;overflow: hidden;text-align: left;background-color: #f0f8ff;}#sk-container-id-8 div.sk-toggleable__content pre {margin: 0.2em;color: black;border-radius: 0.25em;background-color: #f0f8ff;}#sk-container-id-8 input.sk-toggleable__control:checked~div.sk-toggleable__content {max-height: 200px;max-width: 100%;overflow: auto;}#sk-container-id-8 input.sk-toggleable__control:checked~label.sk-toggleable__label-arrow:before {content: \"▾\";}#sk-container-id-8 div.sk-estimator input.sk-toggleable__control:checked~label.sk-toggleable__label {background-color: #d4ebff;}#sk-container-id-8 div.sk-label input.sk-toggleable__control:checked~label.sk-toggleable__label {background-color: #d4ebff;}#sk-container-id-8 input.sk-hidden--visually {border: 0;clip: rect(1px 1px 1px 1px);clip: rect(1px, 1px, 1px, 1px);height: 1px;margin: -1px;overflow: hidden;padding: 0;position: absolute;width: 1px;}#sk-container-id-8 div.sk-estimator {font-family: monospace;background-color: #f0f8ff;border: 1px dotted black;border-radius: 0.25em;box-sizing: border-box;margin-bottom: 0.5em;}#sk-container-id-8 div.sk-estimator:hover {background-color: #d4ebff;}#sk-container-id-8 div.sk-parallel-item::after {content: \"\";width: 100%;border-bottom: 1px solid gray;flex-grow: 1;}#sk-container-id-8 div.sk-label:hover label.sk-toggleable__label {background-color: #d4ebff;}#sk-container-id-8 div.sk-serial::before {content: \"\";position: absolute;border-left: 1px solid gray;box-sizing: border-box;top: 0;bottom: 0;left: 50%;z-index: 0;}#sk-container-id-8 div.sk-serial {display: flex;flex-direction: column;align-items: center;background-color: white;padding-right: 0.2em;padding-left: 0.2em;position: relative;}#sk-container-id-8 div.sk-item {position: relative;z-index: 1;}#sk-container-id-8 div.sk-parallel {display: flex;align-items: stretch;justify-content: center;background-color: white;position: relative;}#sk-container-id-8 div.sk-item::before, #sk-container-id-8 div.sk-parallel-item::before {content: \"\";position: absolute;border-left: 1px solid gray;box-sizing: border-box;top: 0;bottom: 0;left: 50%;z-index: -1;}#sk-container-id-8 div.sk-parallel-item {display: flex;flex-direction: column;z-index: 1;position: relative;background-color: white;}#sk-container-id-8 div.sk-parallel-item:first-child::after {align-self: flex-end;width: 50%;}#sk-container-id-8 div.sk-parallel-item:last-child::after {align-self: flex-start;width: 50%;}#sk-container-id-8 div.sk-parallel-item:only-child::after {width: 0;}#sk-container-id-8 div.sk-dashed-wrapped {border: 1px dashed gray;margin: 0 0.4em 0.5em 0.4em;box-sizing: border-box;padding-bottom: 0.4em;background-color: white;}#sk-container-id-8 div.sk-label label {font-family: monospace;font-weight: bold;display: inline-block;line-height: 1.2em;}#sk-container-id-8 div.sk-label-container {text-align: center;}#sk-container-id-8 div.sk-container {/* jupyter's `normalize.less` sets `[hidden] { display: none; }` but bootstrap.min.css set `[hidden] { display: none !important; }` so we also need the `!important` here to be able to override the default hidden behavior on the sphinx rendered scikit-learn.org. See: https://github.com/scikit-learn/scikit-learn/issues/21755 */display: inline-block !important;position: relative;}#sk-container-id-8 div.sk-text-repr-fallback {display: none;}</style><div id=\"sk-container-id-8\" class=\"sk-top-container\"><div class=\"sk-text-repr-fallback\"><pre>KNeighborsClassifier()</pre><b>In a Jupyter environment, please rerun this cell to show the HTML representation or trust the notebook. <br />On GitHub, the HTML representation is unable to render, please try loading this page with nbviewer.org.</b></div><div class=\"sk-container\" hidden><div class=\"sk-item\"><div class=\"sk-estimator sk-toggleable\"><input class=\"sk-toggleable__control sk-hidden--visually\" id=\"sk-estimator-id-8\" type=\"checkbox\" checked><label for=\"sk-estimator-id-8\" class=\"sk-toggleable__label sk-toggleable__label-arrow\">KNeighborsClassifier</label><div class=\"sk-toggleable__content\"><pre>KNeighborsClassifier()</pre></div></div></div></div></div>"
            ]
          },
          "metadata": {},
          "execution_count": 51
        }
      ]
    },
    {
      "cell_type": "code",
      "source": [
        "# Make predictions on the test set\n",
        "y_pred = knn.predict(x_test)\n",
        "\n",
        "# Evaluate the model\n",
        "accuracy = accuracy_score(y_test, y_pred)\n",
        "print('Accuracy:', accuracy)"
      ],
      "metadata": {
        "colab": {
          "base_uri": "https://localhost:8080/"
        },
        "id": "Pw5SfTuJnehF",
        "outputId": "f8386b54-ffcd-40e2-fb75-aafae3d36b6f"
      },
      "execution_count": null,
      "outputs": [
        {
          "output_type": "stream",
          "name": "stdout",
          "text": [
            "Accuracy: 0.9979600091447866\n"
          ]
        }
      ]
    },
    {
      "cell_type": "code",
      "source": [
        "print(classification_report(y_test, y_pred))"
      ],
      "metadata": {
        "colab": {
          "base_uri": "https://localhost:8080/"
        },
        "id": "Y4vFwc5AnnCV",
        "outputId": "e5302309-1231-4a7e-a8f5-3dab1b34b504"
      },
      "execution_count": null,
      "outputs": [
        {
          "output_type": "stream",
          "name": "stdout",
          "text": [
            "              precision    recall  f1-score   support\n",
            "\n",
            "           0       1.00      1.00      1.00     56750\n",
            "           1       1.00      1.00      1.00     56976\n",
            "\n",
            "    accuracy                           1.00    113726\n",
            "   macro avg       1.00      1.00      1.00    113726\n",
            "weighted avg       1.00      1.00      1.00    113726\n",
            "\n"
          ]
        }
      ]
    },
    {
      "cell_type": "code",
      "source": [
        "from tensorflow import keras\n",
        "from tensorflow.keras import layers\n",
        "x = df[['V1', 'V2', 'V3', 'V4', 'V5', 'V6', 'V7', 'V8', 'V9', 'V10', 'V11', 'V12', 'V13', 'V14', 'V15', 'V16', 'V17', 'V18', 'V19', 'V20', 'V21', 'V22', 'V23', 'V24', 'V25', 'V26', 'V27', 'V28', 'Amount']]\n",
        "y=df['Class']\n",
        "X_train, X_test, y_train, y_test = train_test_split(df.drop('Class', axis=1), df['Class'], test_size=0.2, random_state=42)\n",
        "model = keras.Sequential([\n",
        "    layers.Dense(128, activation='relu'),\n",
        "    layers.Dense(64, activation='relu'),\n",
        "    # layers.Dense(32, activation='relu'),\n",
        "    layers.Dense(1, activation='sigmoid')\n",
        "])\n",
        "model.compile(optimizer='adam', loss='binary_crossentropy', metrics=['accuracy'])\n",
        "model.fit(X_train, y_train, epochs=3)\n",
        "model.evaluate(X_test, y_test)\n",
        "\n"
      ],
      "metadata": {
        "colab": {
          "base_uri": "https://localhost:8080/"
        },
        "id": "V6uIWzonouUM",
        "outputId": "effc0b63-acb1-49f0-ed5c-9b419cb959a7"
      },
      "execution_count": null,
      "outputs": [
        {
          "output_type": "stream",
          "name": "stdout",
          "text": [
            "Epoch 1/3\n",
            "14216/14216 [==============================] - 28s 2ms/step - loss: 103.1679 - accuracy: 0.7409\n",
            "Epoch 2/3\n",
            "14216/14216 [==============================] - 26s 2ms/step - loss: 8.2589 - accuracy: 0.9118\n",
            "Epoch 3/3\n",
            "14216/14216 [==============================] - 28s 2ms/step - loss: 1.2508 - accuracy: 0.6059\n",
            "3554/3554 [==============================] - 5s 1ms/step - loss: 0.6899 - accuracy: 0.4990\n"
          ]
        },
        {
          "output_type": "execute_result",
          "data": {
            "text/plain": [
              "[0.6899140477180481, 0.499023973941803]"
            ]
          },
          "metadata": {},
          "execution_count": 54
        }
      ]
    },
    {
      "cell_type": "code",
      "source": [
        "import tensorflow as tf\n",
        "import keras\n",
        "\n",
        "from tensorflow import keras\n",
        "from tensorflow.keras import layers\n",
        "x = df[['V1', 'V2', 'V3', 'V4', 'V5', 'V6', 'V7', 'V8', 'V9', 'V10', 'V11', 'V12', 'V13', 'V14', 'V15', 'V16', 'V17', 'V18', 'V19', 'V20', 'V21', 'V22', 'V23', 'V24', 'V25', 'V26', 'V27', 'V28', 'Amount']]\n",
        "y=df['Class']\n",
        "X_train, X_test, y_train, y_test = train_test_split(df.drop('Class', axis=1), df['Class'], test_size=0.2, random_state=42)\n",
        "ann = tf.keras.models.Sequential()\n",
        "\n",
        "ann.add(tf.keras.layers.Dense(units=6, activation='relu'))\n",
        "\n",
        "ann.add(tf.keras.layers.Dense(units=6, activation='relu'))\n",
        "\n",
        "ann.add(tf.keras.layers.Dense(units=1, activation='sigmoid'))\n",
        "\n",
        "ann.compile(optimizer = 'adam', loss = 'mean_squared_error',metrics=['accuracy'] )\n",
        "\n",
        "ann.fit(x_train, y_train, batch_size=100, epochs=10)\n",
        "\n",
        "y_pred = ann.predict(x_test)\n",
        "\n",
        "y_pred = (y_pred > 0.5)\n",
        "\n",
        "print(classification_report(y_pred,y_test))"
      ],
      "metadata": {
        "colab": {
          "base_uri": "https://localhost:8080/"
        },
        "id": "a3cQTsOIvtK2",
        "outputId": "34d3a4f8-5c2d-4b3e-f336-b223ecaa0bd6"
      },
      "execution_count": null,
      "outputs": [
        {
          "output_type": "stream",
          "name": "stdout",
          "text": [
            "Epoch 1/10\n",
            "4550/4550 [==============================] - 9s 2ms/step - loss: 0.0350 - accuracy: 0.9532\n",
            "Epoch 2/10\n",
            "4550/4550 [==============================] - 8s 2ms/step - loss: 0.0263 - accuracy: 0.9649\n",
            "Epoch 3/10\n",
            "4550/4550 [==============================] - 8s 2ms/step - loss: 0.0248 - accuracy: 0.9672\n",
            "Epoch 4/10\n",
            "4550/4550 [==============================] - 10s 2ms/step - loss: 0.0242 - accuracy: 0.9682\n",
            "Epoch 5/10\n",
            "4550/4550 [==============================] - 7s 2ms/step - loss: 0.0236 - accuracy: 0.9687\n",
            "Epoch 6/10\n",
            "4550/4550 [==============================] - 9s 2ms/step - loss: 0.0231 - accuracy: 0.9694\n",
            "Epoch 7/10\n",
            "4550/4550 [==============================] - 7s 2ms/step - loss: 0.0227 - accuracy: 0.9700\n",
            "Epoch 8/10\n",
            "4550/4550 [==============================] - 9s 2ms/step - loss: 0.0223 - accuracy: 0.9705\n",
            "Epoch 9/10\n",
            "4550/4550 [==============================] - 7s 2ms/step - loss: 0.0221 - accuracy: 0.9710\n",
            "Epoch 10/10\n",
            "4550/4550 [==============================] - 9s 2ms/step - loss: 0.0218 - accuracy: 0.9713\n",
            "3554/3554 [==============================] - 5s 1ms/step\n",
            "              precision    recall  f1-score   support\n",
            "\n",
            "       False       0.98      0.96      0.97     57833\n",
            "        True       0.96      0.98      0.97     55893\n",
            "\n",
            "    accuracy                           0.97    113726\n",
            "   macro avg       0.97      0.97      0.97    113726\n",
            "weighted avg       0.97      0.97      0.97    113726\n",
            "\n"
          ]
        }
      ]
    },
    {
      "cell_type": "code",
      "source": [
        "from sklearn.model_selection import GridSearchCV\n",
        "from sklearn.linear_model import LogisticRegression\n",
        "from sklearn.metrics import accuracy_score\n",
        "from sklearn.model_selection import train_test_split\n",
        "\n",
        "# Load the data\n",
        "x = df[['V1', 'V2', 'V3', 'V4', 'V5', 'V6', 'V7', 'V8', 'V9', 'V10', 'V11', 'V12', 'V13', 'V14', 'V15', 'V16', 'V17', 'V18', 'V19', 'V20', 'V21', 'V22', 'V23', 'V24', 'V25', 'V26', 'V27', 'V28', 'Amount']]\n",
        "y=df['Class']\n",
        "\n",
        "\n",
        "# Split the data into training and test sets\n",
        "x_train, x_test, y_train, y_test = train_test_split(x,y, test_size=0.2, random_state=42)\n",
        "\n",
        "# Create a logistic regression model\n",
        "model = LogisticRegression()\n",
        "\n",
        "# Create a grid search object\n",
        "grid_search = GridSearchCV(model, {'C': [0.01, 0.1, 1, 10, 100]}, cv=5)\n",
        "\n",
        "# Fit the grid search object to the data\n",
        "grid_search.fit(x_train, y_train)\n",
        "\n",
        "# Print the best parameters\n",
        "print(grid_search.best_params_)\n",
        "\n",
        "# Print the best score\n",
        "print(grid_search.best_score_)\n",
        "\n",
        "# Make predictions on the test set\n",
        "y_pred = grid_search.predict(x_test)\n",
        "\n",
        "# Evaluate the model\n",
        "accuracy = accuracy_score(y_test, y_pred)\n",
        "print('Accuracy:', accuracy)\n"
      ],
      "metadata": {
        "colab": {
          "base_uri": "https://localhost:8080/"
        },
        "id": "7YI097YYoCzx",
        "outputId": "a2805222-c8b7-4f54-8a81-57c9a9707e49"
      },
      "execution_count": null,
      "outputs": [
        {
          "output_type": "stream",
          "name": "stdout",
          "text": [
            "{'C': 100}\n",
            "0.9649310602655572\n",
            "Accuracy: 0.9652849832052477\n"
          ]
        }
      ]
    },
    {
      "cell_type": "code",
      "source": [
        "print(classification_report(y_pred,y_test))"
      ],
      "metadata": {
        "colab": {
          "base_uri": "https://localhost:8080/"
        },
        "id": "rkTTCdqLo2jA",
        "outputId": "3ca3a26a-3d8a-4ffa-8f65-d7a8396f58b8"
      },
      "execution_count": null,
      "outputs": [
        {
          "output_type": "stream",
          "name": "stdout",
          "text": [
            "              precision    recall  f1-score   support\n",
            "\n",
            "           0       0.98      0.95      0.97     58172\n",
            "           1       0.95      0.98      0.96     55554\n",
            "\n",
            "    accuracy                           0.97    113726\n",
            "   macro avg       0.97      0.97      0.97    113726\n",
            "weighted avg       0.97      0.97      0.97    113726\n",
            "\n"
          ]
        }
      ]
    },
    {
      "cell_type": "code",
      "source": [],
      "metadata": {
        "id": "8r89gnCAp-AQ"
      },
      "execution_count": null,
      "outputs": []
    },
    {
      "cell_type": "code",
      "source": [],
      "metadata": {
        "id": "EXYAGmPzqArC"
      },
      "execution_count": null,
      "outputs": []
    },
    {
      "cell_type": "code",
      "source": [
        "# import pandas as pd\n",
        "# from statsmodels.stats.outliers_influence import variance_inflation_factor\n",
        "# from sklearn.model_selection import train_test_split\n",
        "\n",
        "\n",
        "# X = df[['V1', 'V2', 'V3', 'V4', 'V5', 'V6', 'V7', 'V8', 'V9', 'V10', 'V11', 'V12', 'V13', 'V14', 'V15', 'V16', 'V17', 'V18', 'V19', 'V20', 'V21', 'V22', 'V23', 'V24', 'V25', 'V26', 'V27', 'V28', 'Amount']]\n",
        "# y = df['Class']\n",
        "\n",
        "# # Split the data into training and test sets\n",
        "# X_train, X_test, y_train, y_test = train_test_split(X, y, test_size=0.2, random_state=42)\n",
        "\n",
        "# # Calculate VIF for each feature in the training set\n",
        "# vif_data = pd.DataFrame()\n",
        "# vif_data[\"Feature\"] = X_train.columns\n",
        "# vif_data[\"VIF\"] = [variance_inflation_factor(X_train.values, i) for i in range(X_train.shape[1])]\n",
        "\n",
        "# # Display the VIF values\n",
        "# print(vif_data)"
      ],
      "metadata": {
        "colab": {
          "base_uri": "https://localhost:8080/"
        },
        "id": "yYFhDZ68qBfX",
        "outputId": "36e79370-1475-4baf-e2d7-56e6aea6c072"
      },
      "execution_count": null,
      "outputs": [
        {
          "output_type": "stream",
          "name": "stdout",
          "text": [
            "   Feature       VIF\n",
            "0       V1  2.102963\n",
            "1       V2  3.022723\n",
            "2       V3  3.016196\n",
            "3       V4  3.062283\n",
            "4       V5  2.876071\n",
            "5       V6  2.502016\n",
            "6       V7  3.002031\n",
            "7       V8  2.718789\n",
            "8       V9  2.959896\n",
            "9      V10  3.942646\n",
            "10     V11  3.372848\n",
            "11     V12  4.038773\n",
            "12     V13  1.153071\n",
            "13     V14  3.916530\n",
            "14     V15  1.163977\n",
            "15     V16  4.877472\n",
            "16     V17  6.515203\n",
            "17     V18  4.024695\n",
            "18     V19  2.011692\n",
            "19     V20  1.803595\n",
            "20     V21  3.584614\n",
            "21     V22  2.736359\n",
            "22     V23  1.594958\n",
            "23     V24  1.133533\n",
            "24     V25  1.380867\n",
            "25     V26  1.112525\n",
            "26     V27  1.556747\n",
            "27     V28  1.277518\n",
            "28  Amount  1.000084\n"
          ]
        }
      ]
    },
    {
      "cell_type": "code",
      "source": [
        "# Split the data into training and test sets\n",
        "x_train, x_test, y_train, y_test = train_test_split(x, y, test_size=0.2, random_state=42)\n",
        "\n",
        "# Create a logistic regression model\n",
        "model = LogisticRegression()\n",
        "\n",
        "# Fit the model to the training data\n",
        "model.fit(x_train, y_train)\n",
        "\n",
        "# Make predictions on the test data\n",
        "y_pred = model.predict(x_test)\n",
        "\n",
        "# Evaluate the model\n",
        "accuracy = accuracy_score(y_test, y_pred)\n",
        "print('Accuracy:', accuracy)\n",
        "\n",
        "# Perform cross-validation\n",
        "scores = cross_val_score(model, x, y, cv=5)\n",
        "print('Cross-validation scores:', scores)\n",
        "\n",
        "# Print the mean of the cross-validation scores\n",
        "print('Mean cross-validation score:', np.mean(scores))"
      ],
      "metadata": {
        "colab": {
          "base_uri": "https://localhost:8080/"
        },
        "id": "vNWQ0VHiws6E",
        "outputId": "1703ec2a-9c2a-41fa-a841-dae5d5e50c94"
      },
      "execution_count": null,
      "outputs": [
        {
          "output_type": "stream",
          "name": "stdout",
          "text": [
            "Accuracy: 0.9652761901412166\n",
            "Cross-validation scores: [0.96246241 0.96493326 0.96156552 0.96109069 0.9631131 ]\n",
            "Mean cross-validation score: 0.9626329950934703\n"
          ]
        }
      ]
    },
    {
      "cell_type": "code",
      "source": [
        "#Gradient Boosting algorithm"
      ],
      "metadata": {
        "id": "7rizhAAe2dxH"
      },
      "execution_count": null,
      "outputs": []
    },
    {
      "cell_type": "code",
      "source": [
        "from sklearn.ensemble import GradientBoostingClassifier\n",
        "\n",
        "x = df[['V1', 'V2', 'V3', 'V4', 'V5', 'V6', 'V7', 'V8', 'V9', 'V10', 'V11', 'V12', 'V13', 'V14', 'V15', 'V16', 'V17', 'V18', 'V19', 'V20', 'V21', 'V22', 'V23', 'V24', 'V25', 'V26', 'V27', 'V28', 'Amount']]\n",
        "y=df['Class']\n",
        "x_train, x_test, y_train, y_test = train_test_split(x, y, test_size=0.2, random_state=42)\n",
        "model = GradientBoostingClassifier()\n",
        "model.fit(x_train, y_train)\n"
      ],
      "metadata": {
        "colab": {
          "base_uri": "https://localhost:8080/",
          "height": 74
        },
        "id": "nfM77_h6x_wR",
        "outputId": "2686129f-1b81-407f-e79a-ca2b2b31efa1"
      },
      "execution_count": null,
      "outputs": [
        {
          "output_type": "execute_result",
          "data": {
            "text/plain": [
              "GradientBoostingClassifier()"
            ],
            "text/html": [
              "<style>#sk-container-id-9 {color: black;background-color: white;}#sk-container-id-9 pre{padding: 0;}#sk-container-id-9 div.sk-toggleable {background-color: white;}#sk-container-id-9 label.sk-toggleable__label {cursor: pointer;display: block;width: 100%;margin-bottom: 0;padding: 0.3em;box-sizing: border-box;text-align: center;}#sk-container-id-9 label.sk-toggleable__label-arrow:before {content: \"▸\";float: left;margin-right: 0.25em;color: #696969;}#sk-container-id-9 label.sk-toggleable__label-arrow:hover:before {color: black;}#sk-container-id-9 div.sk-estimator:hover label.sk-toggleable__label-arrow:before {color: black;}#sk-container-id-9 div.sk-toggleable__content {max-height: 0;max-width: 0;overflow: hidden;text-align: left;background-color: #f0f8ff;}#sk-container-id-9 div.sk-toggleable__content pre {margin: 0.2em;color: black;border-radius: 0.25em;background-color: #f0f8ff;}#sk-container-id-9 input.sk-toggleable__control:checked~div.sk-toggleable__content {max-height: 200px;max-width: 100%;overflow: auto;}#sk-container-id-9 input.sk-toggleable__control:checked~label.sk-toggleable__label-arrow:before {content: \"▾\";}#sk-container-id-9 div.sk-estimator input.sk-toggleable__control:checked~label.sk-toggleable__label {background-color: #d4ebff;}#sk-container-id-9 div.sk-label input.sk-toggleable__control:checked~label.sk-toggleable__label {background-color: #d4ebff;}#sk-container-id-9 input.sk-hidden--visually {border: 0;clip: rect(1px 1px 1px 1px);clip: rect(1px, 1px, 1px, 1px);height: 1px;margin: -1px;overflow: hidden;padding: 0;position: absolute;width: 1px;}#sk-container-id-9 div.sk-estimator {font-family: monospace;background-color: #f0f8ff;border: 1px dotted black;border-radius: 0.25em;box-sizing: border-box;margin-bottom: 0.5em;}#sk-container-id-9 div.sk-estimator:hover {background-color: #d4ebff;}#sk-container-id-9 div.sk-parallel-item::after {content: \"\";width: 100%;border-bottom: 1px solid gray;flex-grow: 1;}#sk-container-id-9 div.sk-label:hover label.sk-toggleable__label {background-color: #d4ebff;}#sk-container-id-9 div.sk-serial::before {content: \"\";position: absolute;border-left: 1px solid gray;box-sizing: border-box;top: 0;bottom: 0;left: 50%;z-index: 0;}#sk-container-id-9 div.sk-serial {display: flex;flex-direction: column;align-items: center;background-color: white;padding-right: 0.2em;padding-left: 0.2em;position: relative;}#sk-container-id-9 div.sk-item {position: relative;z-index: 1;}#sk-container-id-9 div.sk-parallel {display: flex;align-items: stretch;justify-content: center;background-color: white;position: relative;}#sk-container-id-9 div.sk-item::before, #sk-container-id-9 div.sk-parallel-item::before {content: \"\";position: absolute;border-left: 1px solid gray;box-sizing: border-box;top: 0;bottom: 0;left: 50%;z-index: -1;}#sk-container-id-9 div.sk-parallel-item {display: flex;flex-direction: column;z-index: 1;position: relative;background-color: white;}#sk-container-id-9 div.sk-parallel-item:first-child::after {align-self: flex-end;width: 50%;}#sk-container-id-9 div.sk-parallel-item:last-child::after {align-self: flex-start;width: 50%;}#sk-container-id-9 div.sk-parallel-item:only-child::after {width: 0;}#sk-container-id-9 div.sk-dashed-wrapped {border: 1px dashed gray;margin: 0 0.4em 0.5em 0.4em;box-sizing: border-box;padding-bottom: 0.4em;background-color: white;}#sk-container-id-9 div.sk-label label {font-family: monospace;font-weight: bold;display: inline-block;line-height: 1.2em;}#sk-container-id-9 div.sk-label-container {text-align: center;}#sk-container-id-9 div.sk-container {/* jupyter's `normalize.less` sets `[hidden] { display: none; }` but bootstrap.min.css set `[hidden] { display: none !important; }` so we also need the `!important` here to be able to override the default hidden behavior on the sphinx rendered scikit-learn.org. See: https://github.com/scikit-learn/scikit-learn/issues/21755 */display: inline-block !important;position: relative;}#sk-container-id-9 div.sk-text-repr-fallback {display: none;}</style><div id=\"sk-container-id-9\" class=\"sk-top-container\"><div class=\"sk-text-repr-fallback\"><pre>GradientBoostingClassifier()</pre><b>In a Jupyter environment, please rerun this cell to show the HTML representation or trust the notebook. <br />On GitHub, the HTML representation is unable to render, please try loading this page with nbviewer.org.</b></div><div class=\"sk-container\" hidden><div class=\"sk-item\"><div class=\"sk-estimator sk-toggleable\"><input class=\"sk-toggleable__control sk-hidden--visually\" id=\"sk-estimator-id-9\" type=\"checkbox\" checked><label for=\"sk-estimator-id-9\" class=\"sk-toggleable__label sk-toggleable__label-arrow\">GradientBoostingClassifier</label><div class=\"sk-toggleable__content\"><pre>GradientBoostingClassifier()</pre></div></div></div></div></div>"
            ]
          },
          "metadata": {},
          "execution_count": 63
        }
      ]
    },
    {
      "cell_type": "code",
      "source": [
        "y_pred = model.predict(x_test)\n",
        "accuracy = accuracy_score(y_test, y_pred)\n",
        "print('Accuracy:', accuracy)"
      ],
      "metadata": {
        "colab": {
          "base_uri": "https://localhost:8080/"
        },
        "id": "NLObj6SpyCcD",
        "outputId": "45eee63d-4ea7-4a98-a3ea-b56c0bc6d95e"
      },
      "execution_count": null,
      "outputs": [
        {
          "output_type": "stream",
          "name": "stdout",
          "text": [
            "Accuracy: 0.9789757839016584\n"
          ]
        }
      ]
    },
    {
      "cell_type": "code",
      "source": [
        "print(classification_report(y_pred,y_test))"
      ],
      "metadata": {
        "colab": {
          "base_uri": "https://localhost:8080/"
        },
        "id": "mx6bPdh91rpA",
        "outputId": "36a9ebfc-08f0-48eb-d73c-11c8515d1d48"
      },
      "execution_count": null,
      "outputs": [
        {
          "output_type": "stream",
          "name": "stdout",
          "text": [
            "              precision    recall  f1-score   support\n",
            "\n",
            "           0       0.99      0.97      0.98     57905\n",
            "           1       0.97      0.99      0.98     55821\n",
            "\n",
            "    accuracy                           0.98    113726\n",
            "   macro avg       0.98      0.98      0.98    113726\n",
            "weighted avg       0.98      0.98      0.98    113726\n",
            "\n"
          ]
        }
      ]
    },
    {
      "cell_type": "code",
      "source": [
        "# checking the accuracy after removing the outliers\n",
        "new=[]\n",
        "for i in df.columns.values:\n",
        "    df['z-scores']=(df[i]-df[i].mean())/df[i].std()\n",
        "    outliers=np.abs(df['z-scores']>3).sum()\n",
        "    if outliers>0:\n",
        "        new.append(i)\n",
        "        print(i,\" : \",outliers)\n",
        "\n",
        "thres=2\n",
        "print(len(df))\n",
        "\n",
        "for i in df[new]:\n",
        "    upper=df[i].mean()+thres*df[i].std()\n",
        "    lower=df[i].mean()-thres*df[i].std()\n",
        "    df=df[(df[i]>lower)&(df[i]<upper)]\n",
        "\n",
        "print(len(df))"
      ],
      "metadata": {
        "id": "5RAwa7eT7kst"
      },
      "execution_count": null,
      "outputs": []
    },
    {
      "cell_type": "code",
      "source": [
        "df=df.drop(['z-scores'],axis=1)\n",
        "print(df['Class'].value_counts())\n",
        "\n",
        "print(len(df.columns))\n",
        "x=[]\n",
        "corr=df.corr(method='kendall')['Class']\n",
        "corr=corr.drop(['Class'])\n",
        "print(corr)\n",
        "for i in corr.index:\n",
        "    if corr[i]>0 and corr[i] < 0.8:\n",
        "        x.append(i)\n",
        "\n",
        "print(df[x].columns)"
      ],
      "metadata": {
        "id": "qV3mSm0w7qY9"
      },
      "execution_count": null,
      "outputs": []
    },
    {
      "cell_type": "code",
      "source": [
        "y=df['Class']\n",
        "\n",
        "x_train,x_test,y_train,y_test=train_test_split(df[x],y)\n",
        "\n",
        "lr = LogisticRegression(max_iter=200)\n",
        "lr.fit(x_train, y_train)\n",
        "y_pred = lr.predict(x_test)\n",
        "print(f'The logistic regression ', lr.score(x_test, y_test))\n",
        "print(accuracy_score(y_test,y_pred))"
      ],
      "metadata": {
        "id": "1Tr0c-D07t_5"
      },
      "execution_count": null,
      "outputs": []
    },
    {
      "cell_type": "code",
      "source": [
        "###checking SVM\n",
        "\n",
        "from sklearn.svm import SVC\n",
        "from sklearn.model_selection import train_test_split\n",
        "from sklearn.metrics import accuracy_score, classification_report\n",
        "\n",
        "# Create a Support Vector Machine (SVM) Classifier\n",
        "svm_classifier = SVC(kernel='rbf', C=1.0, gamma='scale', random_state=42)\n",
        "\n",
        "# Train the model\n",
        "svm_classifier.fit(x_train, y_train)\n",
        "\n",
        "# Make predictions on the test set\n",
        "y_pred = svm_classifier.predict(x_test)\n",
        "\n",
        "# Evaluate the model\n",
        "accuracy = accuracy_score(y_test, y_pred)\n",
        "print(\"Accuracy:\", accuracy)\n",
        "\n",
        "# Additional metrics\n",
        "print(\"Classification Report:\\n\", classification_report(y_test,y_pred))"
      ],
      "metadata": {
        "id": "JjTKD4zi73BP"
      },
      "execution_count": null,
      "outputs": []
    },
    {
      "cell_type": "code",
      "source": [
        "# Conclusion:\n"
      ],
      "metadata": {
        "id": "gTcWIGrA73kp"
      },
      "execution_count": null,
      "outputs": []
    },
    {
      "cell_type": "markdown",
      "source": [
        "# Conclusion\n",
        "\n",
        "It is observed that the data is about the prediction of fraudulent or not fraudelent.the data consist of equal number of fraudelent and non fraudulent count in the Class column.There are so many outliers in each coilumn ,we cant remove the outliers blindly so we will only use the model which are less sensitive to the outliers\n",
        "the accuracy and other parameters obtain from different types of models are\n",
        "\n",
        "# Logistic regression\n",
        "For all features:--> accuracy is 96%\n",
        "\n",
        "              precision    recall  f1-score   support\n",
        "\n",
        "           0       0.95      0.98      0.97     56750\n",
        "           1       0.98      0.95      0.96     56976\n",
        "\n",
        "    accuracy                           0.97    113726\n",
        "\n",
        "\n",
        "\n",
        "$$  for top features: -->accuracy is 95 %\n",
        "\n",
        "\n",
        "              precision    recall  f1-score   support\n",
        "\n",
        "           0       0.94      0.98      0.96     56750\n",
        "           1       0.98      0.94      0.96     56976\n",
        "\n",
        "    accuracy                           0.96    113726\n",
        "\n",
        "\n",
        "# DecisionTreeClassifier\n",
        "\n",
        "for all features-->99.8%\n",
        "\n",
        "              precision    recall  f1-score   support\n",
        "\n",
        "           0       1.00      1.00      1.00     56750\n",
        "           1       1.00      1.00      1.00     56976\n",
        "\n",
        "    accuracy                           1.00    113726\n",
        "\n",
        "\n",
        "for top features  --> accuracy is 99%\n",
        "\n",
        "\n",
        "              precision    recall  f1-score   support\n",
        "\n",
        "           0       1.00      1.00      1.00     56750\n",
        "           1       1.00      1.00      1.00     56976\n",
        "\n",
        "    accuracy                           1.00    113726\n",
        "\n",
        "\n",
        "# RandomForestClassifier\n",
        "\n",
        "for all features -->accuracy=100%\n",
        "\n",
        "              precision    recall  f1-score   support\n",
        "\n",
        "           0       1.00      1.00      1.00     56750\n",
        "           1       1.00      1.00      1.00     56976\n",
        "\n",
        "    accuracy                           1.00    113726\n",
        "\n",
        "\n",
        "for top features--accuracy=96%\n",
        "\n",
        "              precision    recall  f1-score   support\n",
        "\n",
        "           0       0.93      0.99      0.96     56750\n",
        "           1       0.99      0.92      0.96     56976\n",
        "\n",
        "    accuracy                           0.96    113726\n",
        "\n",
        "#KNN Model\n",
        "\n",
        "for all features-->accuracy=99.78%\n",
        "\n",
        "              precision    recall  f1-score   support\n",
        "\n",
        "           0       1.00      1.00      1.00     56750\n",
        "           1       1.00      1.00      1.00     56976\n",
        "\n",
        "    accuracy                           1.00    113726\n",
        "\n",
        "for top features-->accuracy is 99.79%\n",
        "\n",
        "              precision    recall  f1-score   support\n",
        "\n",
        "           0       1.00      1.00      1.00     56750\n",
        "           1       1.00      1.00      1.00     56976\n",
        "\n",
        "    accuracy                           1.00    113726\n",
        "\n",
        "\n",
        "# ANN-deeplearning model\n",
        "\n",
        "              precision    recall  f1-score   support\n",
        "\n",
        "       False       0.98      0.96      0.97     57833\n",
        "        True       0.96      0.98      0.97     55893\n",
        "\n",
        "    accuracy                           0.97    113726\n",
        "\n",
        "# grading boosting classifier\n",
        "\n",
        "              precision    recall  f1-score   support\n",
        "\n",
        "           0       0.99      0.97      0.98     57905\n",
        "           1       0.97      0.99      0.98     55821\n",
        "\n",
        "    accuracy                           0.98    113726\n",
        "\n",
        "\n",
        "             \n",
        "If computational efficiency and simplicity are crucial, Logistic Regression or KNN could be good choices.\n",
        "If interpretability is important, Logistic Regression or Decision Tree Classifier might be preferred.\n",
        "If achieving the highest accuracy is the primary goal, RandomForestClassifier could be considered.\n"
      ],
      "metadata": {
        "id": "HuJ3fqDEArUl"
      }
    },
    {
      "cell_type": "code",
      "source": [],
      "metadata": {
        "id": "gR7DQs6sAQYR"
      },
      "execution_count": null,
      "outputs": []
    }
  ]
}